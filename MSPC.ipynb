{
 "cells": [
  {
   "cell_type": "code",
   "execution_count": 1,
   "metadata": {
    "id": "muo8qroFHAnr"
   },
   "outputs": [
    {
     "name": "stderr",
     "output_type": "stream",
     "text": [
      "/opt/anaconda3/lib/python3.7/site-packages/sklearn/utils/deprecation.py:144: FutureWarning: The sklearn.neighbors.kde module is  deprecated in version 0.22 and will be removed in version 0.24. The corresponding classes / functions should instead be imported from sklearn.neighbors. Anything that cannot be imported from sklearn.neighbors is now part of the private API.\n",
      "  warnings.warn(message, FutureWarning)\n"
     ]
    }
   ],
   "source": [
    "import pandas as pd\n",
    "import numpy as np\n",
    "\n",
    "from matplotlib import pyplot as plt\n",
    "%matplotlib inline\n",
    "from sklearn.preprocessing import StandardScaler\n",
    "from scipy import stats \n",
    "from sklearn.neighbors.kde import KernelDensity\n",
    "from sklearn.decomposition import PCA"
   ]
  },
  {
   "cell_type": "code",
   "execution_count": 2,
   "metadata": {
    "id": "-Dq0FLhmHNbc"
   },
   "outputs": [],
   "source": [
    "df = pd.read_csv('data/watertreatment_mod.csv', encoding='shift_jis', header=0, index_col=0)"
   ]
  },
  {
   "cell_type": "code",
   "execution_count": 3,
   "metadata": {
    "colab": {
     "base_uri": "https://localhost:8080/",
     "height": 340
    },
    "id": "h8F44gEqsZMw",
    "outputId": "301a0900-637d-4dd7-dbd6-f2dce1907a55"
   },
   "outputs": [
    {
     "data": {
      "text/html": [
       "<div>\n",
       "<style scoped>\n",
       "    .dataframe tbody tr th:only-of-type {\n",
       "        vertical-align: middle;\n",
       "    }\n",
       "\n",
       "    .dataframe tbody tr th {\n",
       "        vertical-align: top;\n",
       "    }\n",
       "\n",
       "    .dataframe thead th {\n",
       "        text-align: right;\n",
       "    }\n",
       "</style>\n",
       "<table border=\"1\" class=\"dataframe\">\n",
       "  <thead>\n",
       "    <tr style=\"text-align: right;\">\n",
       "      <th></th>\n",
       "      <th>V1</th>\n",
       "      <th>V2</th>\n",
       "      <th>V3</th>\n",
       "      <th>V4</th>\n",
       "      <th>V5</th>\n",
       "      <th>V6</th>\n",
       "      <th>V7</th>\n",
       "      <th>V8</th>\n",
       "      <th>V9</th>\n",
       "      <th>V10</th>\n",
       "      <th>...</th>\n",
       "      <th>V29</th>\n",
       "      <th>V30</th>\n",
       "      <th>V31</th>\n",
       "      <th>V32</th>\n",
       "      <th>V33</th>\n",
       "      <th>V34</th>\n",
       "      <th>V35</th>\n",
       "      <th>V36</th>\n",
       "      <th>V37</th>\n",
       "      <th>V38</th>\n",
       "    </tr>\n",
       "    <tr>\n",
       "      <th>date</th>\n",
       "      <th></th>\n",
       "      <th></th>\n",
       "      <th></th>\n",
       "      <th></th>\n",
       "      <th></th>\n",
       "      <th></th>\n",
       "      <th></th>\n",
       "      <th></th>\n",
       "      <th></th>\n",
       "      <th></th>\n",
       "      <th></th>\n",
       "      <th></th>\n",
       "      <th></th>\n",
       "      <th></th>\n",
       "      <th></th>\n",
       "      <th></th>\n",
       "      <th></th>\n",
       "      <th></th>\n",
       "      <th></th>\n",
       "      <th></th>\n",
       "      <th></th>\n",
       "    </tr>\n",
       "  </thead>\n",
       "  <tbody>\n",
       "    <tr>\n",
       "      <th>D-5/3/90</th>\n",
       "      <td>35023</td>\n",
       "      <td>3.5</td>\n",
       "      <td>7.9</td>\n",
       "      <td>205</td>\n",
       "      <td>588</td>\n",
       "      <td>192</td>\n",
       "      <td>65.6</td>\n",
       "      <td>4.5</td>\n",
       "      <td>2430</td>\n",
       "      <td>7.8</td>\n",
       "      <td>...</td>\n",
       "      <td>1840</td>\n",
       "      <td>33.1</td>\n",
       "      <td>64.2</td>\n",
       "      <td>95.3</td>\n",
       "      <td>87.3</td>\n",
       "      <td>72.3</td>\n",
       "      <td>90.2</td>\n",
       "      <td>82.3</td>\n",
       "      <td>89.6</td>\n",
       "      <td>100.0</td>\n",
       "    </tr>\n",
       "    <tr>\n",
       "      <th>D-11/3/90</th>\n",
       "      <td>29156</td>\n",
       "      <td>2.5</td>\n",
       "      <td>7.7</td>\n",
       "      <td>206</td>\n",
       "      <td>451</td>\n",
       "      <td>194</td>\n",
       "      <td>69.1</td>\n",
       "      <td>4.5</td>\n",
       "      <td>1249</td>\n",
       "      <td>7.7</td>\n",
       "      <td>...</td>\n",
       "      <td>1338</td>\n",
       "      <td>46.1</td>\n",
       "      <td>43.6</td>\n",
       "      <td>92.5</td>\n",
       "      <td>85.6</td>\n",
       "      <td>58.2</td>\n",
       "      <td>92.2</td>\n",
       "      <td>73.8</td>\n",
       "      <td>90.2</td>\n",
       "      <td>99.4</td>\n",
       "    </tr>\n",
       "    <tr>\n",
       "      <th>D-12/3/90</th>\n",
       "      <td>39246</td>\n",
       "      <td>2.0</td>\n",
       "      <td>7.8</td>\n",
       "      <td>172</td>\n",
       "      <td>506</td>\n",
       "      <td>200</td>\n",
       "      <td>69.0</td>\n",
       "      <td>5.0</td>\n",
       "      <td>1865</td>\n",
       "      <td>7.8</td>\n",
       "      <td>...</td>\n",
       "      <td>1616</td>\n",
       "      <td>21.2</td>\n",
       "      <td>59.7</td>\n",
       "      <td>90.8</td>\n",
       "      <td>88.4</td>\n",
       "      <td>66.1</td>\n",
       "      <td>89.0</td>\n",
       "      <td>69.0</td>\n",
       "      <td>86.5</td>\n",
       "      <td>99.6</td>\n",
       "    </tr>\n",
       "    <tr>\n",
       "      <th>D-13/3/90</th>\n",
       "      <td>42393</td>\n",
       "      <td>0.7</td>\n",
       "      <td>7.9</td>\n",
       "      <td>189</td>\n",
       "      <td>478</td>\n",
       "      <td>230</td>\n",
       "      <td>67.0</td>\n",
       "      <td>5.5</td>\n",
       "      <td>1410</td>\n",
       "      <td>8.1</td>\n",
       "      <td>...</td>\n",
       "      <td>1575</td>\n",
       "      <td>0.6</td>\n",
       "      <td>45.8</td>\n",
       "      <td>92.0</td>\n",
       "      <td>11.6</td>\n",
       "      <td>25.7</td>\n",
       "      <td>19.6</td>\n",
       "      <td>36.0</td>\n",
       "      <td>43.0</td>\n",
       "      <td>36.4</td>\n",
       "    </tr>\n",
       "    <tr>\n",
       "      <th>D-18/3/90</th>\n",
       "      <td>40923</td>\n",
       "      <td>3.5</td>\n",
       "      <td>7.6</td>\n",
       "      <td>146</td>\n",
       "      <td>329</td>\n",
       "      <td>188</td>\n",
       "      <td>57.4</td>\n",
       "      <td>2.5</td>\n",
       "      <td>1300</td>\n",
       "      <td>7.6</td>\n",
       "      <td>...</td>\n",
       "      <td>1545</td>\n",
       "      <td>32.7</td>\n",
       "      <td>33.3</td>\n",
       "      <td>90.0</td>\n",
       "      <td>82.6</td>\n",
       "      <td>61.3</td>\n",
       "      <td>87.0</td>\n",
       "      <td>71.4</td>\n",
       "      <td>78.2</td>\n",
       "      <td>99.2</td>\n",
       "    </tr>\n",
       "  </tbody>\n",
       "</table>\n",
       "<p>5 rows × 38 columns</p>\n",
       "</div>"
      ],
      "text/plain": [
       "              V1   V2   V3   V4   V5   V6    V7   V8    V9  V10  ...   V29  \\\n",
       "date                                                             ...         \n",
       "D-5/3/90   35023  3.5  7.9  205  588  192  65.6  4.5  2430  7.8  ...  1840   \n",
       "D-11/3/90  29156  2.5  7.7  206  451  194  69.1  4.5  1249  7.7  ...  1338   \n",
       "D-12/3/90  39246  2.0  7.8  172  506  200  69.0  5.0  1865  7.8  ...  1616   \n",
       "D-13/3/90  42393  0.7  7.9  189  478  230  67.0  5.5  1410  8.1  ...  1575   \n",
       "D-18/3/90  40923  3.5  7.6  146  329  188  57.4  2.5  1300  7.6  ...  1545   \n",
       "\n",
       "            V30   V31   V32   V33   V34   V35   V36   V37    V38  \n",
       "date                                                              \n",
       "D-5/3/90   33.1  64.2  95.3  87.3  72.3  90.2  82.3  89.6  100.0  \n",
       "D-11/3/90  46.1  43.6  92.5  85.6  58.2  92.2  73.8  90.2   99.4  \n",
       "D-12/3/90  21.2  59.7  90.8  88.4  66.1  89.0  69.0  86.5   99.6  \n",
       "D-13/3/90   0.6  45.8  92.0  11.6  25.7  19.6  36.0  43.0   36.4  \n",
       "D-18/3/90  32.7  33.3  90.0  82.6  61.3  87.0  71.4  78.2   99.2  \n",
       "\n",
       "[5 rows x 38 columns]"
      ]
     },
     "execution_count": 3,
     "metadata": {},
     "output_type": "execute_result"
    }
   ],
   "source": [
    "df.head()"
   ]
  },
  {
   "cell_type": "code",
   "execution_count": 4,
   "metadata": {
    "id": "O9gkLkIoPTQa"
   },
   "outputs": [],
   "source": [
    "# 分割ポイント\n",
    "split_point = 100\n",
    "# 学習データ（train）と評価データ（test）に分割\n",
    "train_df = df.iloc[:(split_point-1),]\n",
    "test_df = df.iloc[split_point:,]"
   ]
  },
  {
   "cell_type": "code",
   "execution_count": 5,
   "metadata": {
    "id": "_MdHw1_PKSVF"
   },
   "outputs": [],
   "source": [
    "#データを標準化\n",
    "sc = StandardScaler()\n",
    "sc.fit(train_df)\n",
    "train_df_std = sc.transform(train_df)"
   ]
  },
  {
   "cell_type": "code",
   "execution_count": 6,
   "metadata": {
    "colab": {
     "base_uri": "https://localhost:8080/"
    },
    "id": "TkHbU0CPLCwh",
    "outputId": "8d13be3d-4ab6-4e28-d1c0-5a83d52f23fc"
   },
   "outputs": [
    {
     "data": {
      "text/plain": [
       "PCA(copy=True, iterated_power='auto', n_components=None, random_state=None,\n",
       "    svd_solver='auto', tol=0.0, whiten=False)"
      ]
     },
     "execution_count": 6,
     "metadata": {},
     "output_type": "execute_result"
    }
   ],
   "source": [
    "# PCA\n",
    "pca = PCA()\n",
    "pca.fit(train_df_std)"
   ]
  },
  {
   "cell_type": "code",
   "execution_count": 7,
   "metadata": {
    "colab": {
     "base_uri": "https://localhost:8080/",
     "height": 299
    },
    "id": "pWQiYF_NLI8g",
    "outputId": "be7810a4-6c99-41ee-ada7-348b06337515"
   },
   "outputs": [
    {
     "data": {
      "text/plain": [
       "PCA(copy=True, iterated_power='auto', n_components=15, random_state=None,\n",
       "    svd_solver='auto', tol=0.0, whiten=False)"
      ]
     },
     "execution_count": 7,
     "metadata": {},
     "output_type": "execute_result"
    },
    {
     "data": {
      "image/png": "[encoded data removed]",
      "text/plain": [
       "<Figure size 432x288 with 1 Axes>"
      ]
     },
     "metadata": {
      "needs_background": "light"
     },
     "output_type": "display_data"
    }
   ],
   "source": [
    "# Bar plot\n",
    "plt.figure()\n",
    "variance = pca.explained_variance_ratio_\n",
    "variance_total = np.zeros(np.shape(variance)[0])\n",
    "plt.bar(range(np.shape(variance)[0]), variance)\n",
    "for i in range(np.shape(variance)[0]):\n",
    "    variance_total[i] = np.sum(variance[0:i+1])\n",
    "    \n",
    "plt.plot(variance_total)\n",
    "NumOfScore = np.min(np.where(variance_total>0.95))\n",
    "x1=[NumOfScore,NumOfScore]\n",
    "y1=[0,1]\n",
    "plt.plot(x1,y1,ls=\"--\", color = \"r\")\n",
    "\n",
    "pca = PCA(n_components = NumOfScore)\n",
    "pca.fit(train_df_std)"
   ]
  },
  {
   "cell_type": "code",
   "execution_count": 8,
   "metadata": {
    "id": "3tYi3XjVLS9i"
   },
   "outputs": [],
   "source": [
    "# Compute SPE\n",
    "scores = pca.transform(train_df_std)\n",
    "residuals = pca.inverse_transform(scores)-train_df_std\n",
    "dist = np.sqrt(np.sum(np.power(residuals,2),axis=1))/(np.shape(train_df_std)[1])"
   ]
  },
  {
   "cell_type": "code",
   "execution_count": 9,
   "metadata": {
    "id": "7AtA1wziLjkl"
   },
   "outputs": [],
   "source": [
    "#データを標準化\n",
    "test_df_std = sc.transform(test_df)\n",
    "# Test Data\n",
    "newscores = pca.transform(test_df_std)\n",
    "newresiduals = pca.inverse_transform(newscores)-test_df_std\n",
    "newdist = np.sqrt(np.sum(np.power(newresiduals,2),axis=1))/(np.shape(test_df_std)[1])"
   ]
  },
  {
   "cell_type": "code",
   "execution_count": 10,
   "metadata": {
    "colab": {
     "base_uri": "https://localhost:8080/",
     "height": 265
    },
    "id": "A1hmrs1RM1ur",
    "outputId": "64246b79-75b2-4a29-be1d-9bce76779c67"
   },
   "outputs": [
    {
     "data": {
      "image/png": "[encoded data removed]",
      "text/plain": [
       "<Figure size 432x288 with 1 Axes>"
      ]
     },
     "metadata": {
      "needs_background": "light"
     },
     "output_type": "display_data"
    }
   ],
   "source": [
    "# コントロールリミット（カーネル密度推定）\n",
    "cr = 0.99\n",
    "X = dist.reshape(np.shape(dist)[0],1)\n",
    "bw= (np.max(X)-np.min(X))/100\n",
    "kde = KernelDensity(kernel='gaussian', bandwidth=bw).fit(X)\n",
    "X_plot = np.linspace(np.min(X), np.max(X), 1000)[:, np.newaxis]\n",
    "log_dens = kde.score_samples(X_plot)\n",
    "plt.figure()\n",
    "plt.hist(X, bins=X_plot[:,0])\n",
    "plt.plot(X_plot[:,0],np.exp(log_dens))\n",
    "prob = np.exp(log_dens) / np.sum(np.exp(log_dens))\n",
    "calprob = np.zeros(np.shape(prob)[0])\n",
    "calprob[0] = prob[0]\n",
    "for i in range(1,np.shape(prob)[0]):\n",
    "    calprob[i]=calprob[i-1]+prob[i]\n",
    "    \n",
    "cl = X_plot[np.min(np.where(calprob>cr))]"
   ]
  },
  {
   "cell_type": "code",
   "execution_count": 11,
   "metadata": {
    "colab": {
     "base_uri": "https://localhost:8080/",
     "height": 352
    },
    "id": "YbStdgD1NLjo",
    "outputId": "49a44767-7ee9-42f7-9833-f4851274e49f"
   },
   "outputs": [
    {
     "data": {
      "image/png": "[encoded data removed]",
      "text/plain": [
       "<Figure size 432x288 with 1 Axes>"
      ]
     },
     "metadata": {
      "needs_background": "light"
     },
     "output_type": "display_data"
    },
    {
     "data": {
      "text/plain": [
       "<Figure size 432x288 with 0 Axes>"
      ]
     },
     "metadata": {},
     "output_type": "display_data"
    }
   ],
   "source": [
    "# plot SPE\n",
    "SPE = np.r_[dist,newdist]\n",
    "plt.figure()\n",
    "x = range(0,np.shape(df.index)[0],100)\n",
    "NewTimeIndices = np.array(df.index[x])\n",
    "x2 = [0, np.shape(SPE)[0]]\n",
    "y2 = [cl,cl]\n",
    "plt.title('SPE')\n",
    "plt.plot(SPE)\n",
    "plt.xticks(x,NewTimeIndices,rotation='vertical')\n",
    "plt.plot(x2,y2,ls=\"-\", color = \"r\")\n",
    "#plt.ylim([0,1])\n",
    "plt.xlabel(\"Time\")\n",
    "plt.ylabel(\"SPE\")\n",
    "\n",
    "# contribution plot\n",
    "plt.figure()\n",
    "total_residuals= np.r_[residuals,newresiduals]\n",
    "CspeTimeseries = np.power(total_residuals,2)\n",
    "\n",
    "cspe_summary=np.zeros([np.shape(CspeTimeseries)[0],10])"
   ]
  },
  {
   "cell_type": "code",
   "execution_count": 12,
   "metadata": {
    "colab": {
     "base_uri": "https://localhost:8080/",
     "height": 848
    },
    "id": "15ORcdNMNkUj",
    "outputId": "58854038-ac34-47ba-8f6b-01111ffebfdc"
   },
   "outputs": [
    {
     "data": {
      "image/png": "[encoded data removed]",
      "text/plain": [
       "<Figure size 432x288 with 1 Axes>"
      ]
     },
     "metadata": {
      "needs_background": "light"
     },
     "output_type": "display_data"
    },
    {
     "data": {
      "image/png": "[encoded data removed]",
      "text/plain": [
       "<Figure size 432x288 with 1 Axes>"
      ]
     },
     "metadata": {
      "needs_background": "light"
     },
     "output_type": "display_data"
    },
    {
     "data": {
      "image/png": "[encoded data removed]",
      "text/plain": [
       "<Figure size 432x288 with 1 Axes>"
      ]
     },
     "metadata": {
      "needs_background": "light"
     },
     "output_type": "display_data"
    },
    {
     "data": {
      "text/plain": [
       "<Figure size 432x288 with 0 Axes>"
      ]
     },
     "metadata": {},
     "output_type": "display_data"
    }
   ],
   "source": [
    "# 必要なライブラリーのインポート\n",
    "import pandas as pd\n",
    "import numpy as np\n",
    "\n",
    "from matplotlib import pyplot as plt\n",
    "%matplotlib inline\n",
    "from sklearn.preprocessing import StandardScaler\n",
    "from scipy import stats \n",
    "from sklearn.neighbors.kde import KernelDensity\n",
    "from sklearn.decomposition import PCA\n",
    "\n",
    "def preprocess_sc(df, split_point):\n",
    "    \"\"\"データを学習データと評価データに分割し、標準化を行う\n",
    "\n",
    "    Parameters\n",
    "    ----------\n",
    "    df : pd.DataFrame\n",
    "        データセット\n",
    "    split_point : float\n",
    "        データの分割ポイント（今回は恣意的に決定するため必要）\n",
    "\n",
    "    Returns\n",
    "    -------\n",
    "    train_df_std : pd.DataFrame\n",
    "        標準化後の学習データ\n",
    "    test_df_std : pd.DataFrame\n",
    "        標準化後の評価データ\n",
    "    \"\"\"\n",
    "    # 学習データ（train）と評価データ（test）に分割\n",
    "    train_df = df.iloc[:(split_point-1),]\n",
    "    test_df = df.iloc[split_point:,]\n",
    "\n",
    "    # データを標準化\n",
    "    sc = StandardScaler()\n",
    "    sc.fit(train_df)\n",
    "    train_df_std = sc.transform(train_df)\n",
    "    test_df_std = sc.transform(test_df)\n",
    "\n",
    "    return train_df_std, test_df_std\n",
    "\n",
    "def pca_q(train_df_std, test_df_std):\n",
    "    \"\"\"主成分分析を行いQ統計量を求める\n",
    "\n",
    "    Parameters\n",
    "    ----------\n",
    "    train_df_std : pd.DataFrame\n",
    "        標準化後の学習データ\n",
    "    test_df_std : pd.DataFrame\n",
    "        標準化後の評価データ\n",
    "\n",
    "    Returns\n",
    "    -------\n",
    "    dist : np.array\n",
    "        学習データのQ統計量\n",
    "    newdist : np.array\n",
    "        評価データのQ統計量\n",
    "    \"\"\"\n",
    "    # PCA\n",
    "    pca = PCA()\n",
    "    pca.fit(train_df_std)\n",
    "\n",
    "    # 累積寄与率の計算と可視化\n",
    "    plt.figure()\n",
    "    variance = pca.explained_variance_ratio_\n",
    "    variance_total = np.zeros(np.shape(variance)[0])\n",
    "    plt.bar(range(np.shape(variance)[0]), variance)\n",
    "    for i in range(np.shape(variance)[0]):\n",
    "      variance_total[i] = np.sum(variance[0:i+1])\n",
    "      \n",
    "    plt.plot(variance_total)\n",
    "    NumOfScore = np.min(np.where(variance_total>0.95))\n",
    "    x1=[NumOfScore,NumOfScore]\n",
    "    y1=[0,1]\n",
    "    plt.plot(x1,y1,ls=\"--\", color = \"r\")\n",
    "    \n",
    "    pca = PCA(n_components = NumOfScore)\n",
    "    pca.fit(train_df_std)\n",
    "    \n",
    "    # Q統計量\n",
    "    scores = pca.transform(train_df_std)\n",
    "    residuals = pca.inverse_transform(scores)-train_df_std\n",
    "    dist = np.sqrt(np.sum(np.power(residuals,2),axis=1))/(np.shape(train_df_std)[1])\n",
    "    \n",
    "    # Test Data\n",
    "    newscores = pca.transform(test_df_std)\n",
    "    newresiduals = pca.inverse_transform(newscores)-test_df_std\n",
    "    newdist = np.sqrt(np.sum(np.power(newresiduals,2),axis=1))/(np.shape(test_df_std)[1])\n",
    "    \n",
    "    return dist, newdist\n",
    "\n",
    "def cl_limit(dist, cr=0.99):\n",
    "    \"\"\"管理限界の計算を行う\n",
    "\n",
    "    Parameters\n",
    "    ----------\n",
    "    dist : np.array\n",
    "        Q統計量\n",
    "    cr : float\n",
    "        管理限界の境界\n",
    "\n",
    "    Returns\n",
    "    -------\n",
    "    cl : float\n",
    "        管理限界の境界点\n",
    "    \"\"\"\n",
    "    cr = 0.99\n",
    "    X = dist.reshape(np.shape(dist)[0],1)\n",
    "    bw= (np.max(X)-np.min(X))/100\n",
    "    kde = KernelDensity(kernel='gaussian', bandwidth=bw).fit(X)\n",
    "    X_plot = np.linspace(np.min(X), np.max(X), 1000)[:, np.newaxis]\n",
    "    log_dens = kde.score_samples(X_plot)\n",
    "    plt.figure()\n",
    "    plt.hist(X, bins=X_plot[:,0])\n",
    "    plt.plot(X_plot[:,0],np.exp(log_dens))\n",
    "    prob = np.exp(log_dens) / np.sum(np.exp(log_dens))\n",
    "    calprob = np.zeros(np.shape(prob)[0])\n",
    "    calprob[0] = prob[0]\n",
    "    for i in range(1,np.shape(prob)[0]):\n",
    "      calprob[i]=calprob[i-1]+prob[i]\n",
    "      \n",
    "    cl = X_plot[np.min(np.where(calprob>cr))]\n",
    "    \n",
    "    return cl\n",
    "\n",
    "def spe_plot(df, dist, newdist, cl):\n",
    "    \"\"\"Q統計量を可視化する\n",
    "\n",
    "    Parameters\n",
    "    ----------\n",
    "    df : pd.DataFrame\n",
    "        データセット\n",
    "    dist : np.array\n",
    "        学習データのQ統計量\n",
    "    newdist : np.array\n",
    "        評価データのQ統計量\n",
    "    cl : float\n",
    "        管理限界の境界点\n",
    "\n",
    "    Returns\n",
    "    -------\n",
    "    train_df_std : pd.DataFrame\n",
    "        標準化後の学習データ\n",
    "    test_df_std : pd.DataFrame\n",
    "        標準化後の評価データ\n",
    "    \"\"\"\n",
    "    # Q統計量のプロット\n",
    "    SPE = np.r_[dist,newdist]\n",
    "    plt.figure()\n",
    "    x = range(0,np.shape(df.index)[0],100)\n",
    "    NewTimeIndices = np.array(df.index[x])\n",
    "    x2 = [0, np.shape(SPE)[0]]\n",
    "    y2 = [cl,cl]\n",
    "    plt.title('SPE')\n",
    "    plt.plot(SPE)\n",
    "    plt.xticks(x,NewTimeIndices,rotation='vertical')\n",
    "    plt.plot(x2, y2, ls=\"-\", color = \"r\")\n",
    "    plt.xlabel(\"Time\")\n",
    "    plt.ylabel(\"SPE\")\n",
    "    \n",
    "    # contribution plot\n",
    "    plt.figure()\n",
    "    total_residuals= np.r_[residuals,newresiduals]\n",
    "    CspeTimeseries = np.power(total_residuals,2)\n",
    "    \n",
    "    cspe_summary=np.zeros([np.shape(CspeTimeseries)[0],10])\n",
    "\n",
    "def main():\n",
    "    # データセットの読込み\n",
    "    df = pd.read_csv('data/watertreatment_mod.csv', encoding='shift_jis', header=0, index_col=0)\n",
    "\n",
    "    train_df_std, test_df_std = preprocess_sc(df, split_point)\n",
    "    dist, newdist = pca_q(train_df_std, test_df_std)\n",
    "    cl = cl_limit(dist, cr=0.99)\n",
    "    spe_plot(df, dist, newdist, cl)\n",
    "\n",
    "if __name__ == \"__main__\":\n",
    "    main()"
   ]
  },
  {
   "cell_type": "code",
   "execution_count": null,
   "metadata": {
    "id": "ZKwFqYUfumPq"
   },
   "outputs": [],
   "source": []
  }
 ],
 "metadata": {
  "colab": {
   "authorship_tag": "ABX9TyMDEFmPS6duErVk8xIyF0aO",
   "collapsed_sections": [],
   "name": "MSPC.ipynb",
   "provenance": []
  },
  "kernelspec": {
   "display_name": "Python 3",
   "language": "python",
   "name": "python3"
  },
  "language_info": {
   "codemirror_mode": {
    "name": "ipython",
    "version": 3
   },
   "file_extension": ".py",
   "mimetype": "text/x-python",
   "name": "python",
   "nbconvert_exporter": "python",
   "pygments_lexer": "ipython3",
   "version": "3.7.6"
  }
 },
 "nbformat": 4,
 "nbformat_minor": 4
}
