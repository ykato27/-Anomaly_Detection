{
  "nbformat": 4,
  "nbformat_minor": 0,
  "metadata": {
    "colab": {
      "name": "Density_Ratio_Estimation.ipynb",
      "provenance": [],
      "authorship_tag": "ABX9TyMnxTOu/XTbwrDCYJKNbGjp",
      "include_colab_link": true
    },
    "kernelspec": {
      "name": "python3",
      "display_name": "Python 3"
    }
  },
  "cells": [
    {
      "cell_type": "markdown",
      "metadata": {
        "id": "view-in-github",
        "colab_type": "text"
      },
      "source": [
        "<a href=\"https://colab.research.google.com/github/ykato27/Density_Ratio_Estimation/blob/main/Density_Ratio_Estimation.ipynb\" target=\"_parent\"><img src=\"https://colab.research.google.com/assets/colab-badge.svg\" alt=\"Open In Colab\"/></a>"
      ]
    },
    {
      "cell_type": "code",
      "metadata": {
        "id": "b9mReSrrzS1X"
      },
      "source": [
        "import numpy as np\n",
        "from scipy.stats import norm\n",
        "from densratio import densratio"
      ],
      "execution_count": 3,
      "outputs": []
    },
    {
      "cell_type": "code",
      "metadata": {
        "colab": {
          "base_uri": "https://localhost:8080/"
        },
        "id": "a9o890xnzaLN",
        "outputId": "4a510287-ad0b-44f2-ba82-c62806bdb770"
      },
      "source": [
        "np.random.seed(1)\n",
        "x = norm.rvs(size=500, loc=0, scale=1./8)\n",
        "y = norm.rvs(size=500, loc=0, scale=1./2)\n",
        "alpha = 0.1\n",
        "densratio_obj = densratio(x, y, alpha=alpha)\n",
        "print(densratio_obj)"
      ],
      "execution_count": 4,
      "outputs": [
        {
          "output_type": "stream",
          "text": [
            "RuLSIF starting...\n",
            "Searching for the optimal sigma and lambda...\n",
            "sigma = 0.00100, lambda = 0.00100, score = -0.46706\n",
            "sigma = 0.00100, lambda = 0.01000, score = -0.32477\n",
            "sigma = 0.00100, lambda = 0.10000, score = -0.05077\n",
            "sigma = 0.00100, lambda = 1.00000, score = -0.00538\n",
            "sigma = 0.00100, lambda = 10.00000, score = -0.00054\n",
            "sigma = 0.00100, lambda = 100.00000, score = -0.00005\n",
            "sigma = 0.00100, lambda = 1000.00000, score = -0.00001\n",
            "sigma = 0.00100, lambda = 10000.00000, score = -0.00000\n",
            "sigma = 0.00100, lambda = 100000.00000, score = -0.00000\n",
            "sigma = 0.00100, lambda = 1000000.00000, score = -0.00000\n",
            "sigma = 0.00100, lambda = 10000000.00000, score = -0.00000\n",
            "sigma = 0.00100, lambda = 100000000.00000, score = -0.00000\n",
            "sigma = 0.00100, lambda = 1000000000.00000, score = -0.00000\n",
            "sigma = 0.01000, lambda = 0.00100, score = -0.93681\n",
            "sigma = 0.01000, lambda = 0.01000, score = -1.20355\n",
            "sigma = 0.01000, lambda = 0.10000, score = -0.93471\n",
            "sigma = 0.01000, lambda = 1.00000, score = -0.28313\n",
            "sigma = 0.01000, lambda = 10.00000, score = -0.03575\n",
            "sigma = 0.01000, lambda = 100.00000, score = -0.00367\n",
            "sigma = 0.01000, lambda = 1000.00000, score = -0.00037\n",
            "sigma = 0.01000, lambda = 10000.00000, score = -0.00004\n",
            "sigma = 0.01000, lambda = 100000.00000, score = -0.00000\n",
            "sigma = 0.01000, lambda = 1000000.00000, score = -0.00000\n",
            "sigma = 0.01000, lambda = 10000000.00000, score = -0.00000\n",
            "sigma = 0.01000, lambda = 100000000.00000, score = -0.00000\n",
            "sigma = 0.01000, lambda = 1000000000.00000, score = -0.00000\n",
            "sigma = 0.10000, lambda = 0.00100, score = -1.23250\n",
            "sigma = 0.10000, lambda = 0.01000, score = -1.28274\n",
            "sigma = 0.10000, lambda = 0.10000, score = -1.28555\n",
            "sigma = 0.10000, lambda = 1.00000, score = -1.26020\n",
            "sigma = 0.10000, lambda = 10.00000, score = -0.93044\n",
            "sigma = 0.10000, lambda = 100.00000, score = -0.22264\n",
            "sigma = 0.10000, lambda = 1000.00000, score = -0.02557\n",
            "sigma = 0.10000, lambda = 10000.00000, score = -0.00259\n",
            "sigma = 0.10000, lambda = 100000.00000, score = -0.00026\n",
            "sigma = 0.10000, lambda = 1000000.00000, score = -0.00003\n",
            "sigma = 0.10000, lambda = 10000000.00000, score = -0.00000\n",
            "sigma = 0.10000, lambda = 100000000.00000, score = -0.00000\n",
            "sigma = 0.10000, lambda = 1000000000.00000, score = -0.00000\n",
            "sigma = 1.00000, lambda = 0.00100, score = 388.73807\n",
            "sigma = 1.00000, lambda = 0.01000, score = 6.63566\n",
            "sigma = 1.00000, lambda = 0.10000, score = -0.57139\n",
            "sigma = 1.00000, lambda = 1.00000, score = -0.59286\n",
            "sigma = 1.00000, lambda = 10.00000, score = -0.58392\n",
            "sigma = 1.00000, lambda = 100.00000, score = -0.41069\n",
            "sigma = 1.00000, lambda = 1000.00000, score = -0.08604\n",
            "sigma = 1.00000, lambda = 10000.00000, score = -0.00957\n",
            "sigma = 1.00000, lambda = 100000.00000, score = -0.00097\n",
            "sigma = 1.00000, lambda = 1000000.00000, score = -0.00010\n",
            "sigma = 1.00000, lambda = 10000000.00000, score = -0.00001\n",
            "sigma = 1.00000, lambda = 100000000.00000, score = -0.00000\n",
            "sigma = 1.00000, lambda = 1000000000.00000, score = -0.00000\n",
            "sigma = 10.00000, lambda = 0.00100, score = -0.50103\n",
            "sigma = 10.00000, lambda = 0.01000, score = -0.50110\n",
            "sigma = 10.00000, lambda = 0.10000, score = -0.50110\n",
            "sigma = 10.00000, lambda = 1.00000, score = -0.50103\n",
            "sigma = 10.00000, lambda = 10.00000, score = -0.49678\n",
            "sigma = 10.00000, lambda = 100.00000, score = -0.37523\n",
            "sigma = 10.00000, lambda = 1000.00000, score = -0.08676\n",
            "sigma = 10.00000, lambda = 10000.00000, score = -0.00985\n",
            "sigma = 10.00000, lambda = 100000.00000, score = -0.00100\n",
            "sigma = 10.00000, lambda = 1000000.00000, score = -0.00010\n",
            "sigma = 10.00000, lambda = 10000000.00000, score = -0.00001\n",
            "sigma = 10.00000, lambda = 100000000.00000, score = -0.00000\n",
            "sigma = 10.00000, lambda = 1000000000.00000, score = -0.00000\n",
            "sigma = 100.00000, lambda = 0.00100, score = -0.50001\n",
            "sigma = 100.00000, lambda = 0.01000, score = -0.50001\n",
            "sigma = 100.00000, lambda = 0.10000, score = -0.50001\n",
            "sigma = 100.00000, lambda = 1.00000, score = -0.49994\n",
            "sigma = 100.00000, lambda = 10.00000, score = -0.49573\n",
            "sigma = 100.00000, lambda = 100.00000, score = -0.37475\n",
            "sigma = 100.00000, lambda = 1000.00000, score = -0.08676\n",
            "sigma = 100.00000, lambda = 10000.00000, score = -0.00985\n",
            "sigma = 100.00000, lambda = 100000.00000, score = -0.00100\n",
            "sigma = 100.00000, lambda = 1000000.00000, score = -0.00010\n",
            "sigma = 100.00000, lambda = 10000000.00000, score = -0.00001\n",
            "sigma = 100.00000, lambda = 100000000.00000, score = -0.00000\n",
            "sigma = 100.00000, lambda = 1000000000.00000, score = -0.00000\n",
            "sigma = 1000.00000, lambda = 0.00100, score = -0.50000\n",
            "sigma = 1000.00000, lambda = 0.01000, score = -0.50000\n",
            "sigma = 1000.00000, lambda = 0.10000, score = -0.50000\n",
            "sigma = 1000.00000, lambda = 1.00000, score = -0.49993\n",
            "sigma = 1000.00000, lambda = 10.00000, score = -0.49572\n",
            "sigma = 1000.00000, lambda = 100.00000, score = -0.37475\n",
            "sigma = 1000.00000, lambda = 1000.00000, score = -0.08676\n",
            "sigma = 1000.00000, lambda = 10000.00000, score = -0.00985\n",
            "sigma = 1000.00000, lambda = 100000.00000, score = -0.00100\n",
            "sigma = 1000.00000, lambda = 1000000.00000, score = -0.00010\n",
            "sigma = 1000.00000, lambda = 10000000.00000, score = -0.00001\n",
            "sigma = 1000.00000, lambda = 100000000.00000, score = -0.00000\n",
            "sigma = 1000.00000, lambda = 1000000000.00000, score = -0.00000\n",
            "sigma = 10000.00000, lambda = 0.00100, score = -0.50000\n",
            "sigma = 10000.00000, lambda = 0.01000, score = -0.50000\n",
            "sigma = 10000.00000, lambda = 0.10000, score = -0.50000\n",
            "sigma = 10000.00000, lambda = 1.00000, score = -0.49993\n",
            "sigma = 10000.00000, lambda = 10.00000, score = -0.49572\n",
            "sigma = 10000.00000, lambda = 100.00000, score = -0.37475\n",
            "sigma = 10000.00000, lambda = 1000.00000, score = -0.08676\n",
            "sigma = 10000.00000, lambda = 10000.00000, score = -0.00985\n",
            "sigma = 10000.00000, lambda = 100000.00000, score = -0.00100\n",
            "sigma = 10000.00000, lambda = 1000000.00000, score = -0.00010\n",
            "sigma = 10000.00000, lambda = 10000000.00000, score = -0.00001\n",
            "sigma = 10000.00000, lambda = 100000000.00000, score = -0.00000\n",
            "sigma = 10000.00000, lambda = 1000000000.00000, score = -0.00000\n",
            "sigma = 100000.00000, lambda = 0.00100, score = -0.50000\n",
            "sigma = 100000.00000, lambda = 0.01000, score = -0.50000\n",
            "sigma = 100000.00000, lambda = 0.10000, score = -0.50000\n",
            "sigma = 100000.00000, lambda = 1.00000, score = -0.49993\n",
            "sigma = 100000.00000, lambda = 10.00000, score = -0.49572\n",
            "sigma = 100000.00000, lambda = 100.00000, score = -0.37475\n",
            "sigma = 100000.00000, lambda = 1000.00000, score = -0.08676\n",
            "sigma = 100000.00000, lambda = 10000.00000, score = -0.00985\n",
            "sigma = 100000.00000, lambda = 100000.00000, score = -0.00100\n",
            "sigma = 100000.00000, lambda = 1000000.00000, score = -0.00010\n",
            "sigma = 100000.00000, lambda = 10000000.00000, score = -0.00001\n",
            "sigma = 100000.00000, lambda = 100000000.00000, score = -0.00000\n",
            "sigma = 100000.00000, lambda = 1000000000.00000, score = -0.00000\n",
            "sigma = 1000000.00000, lambda = 0.00100, score = -0.50000\n",
            "sigma = 1000000.00000, lambda = 0.01000, score = -0.50000\n",
            "sigma = 1000000.00000, lambda = 0.10000, score = -0.50000\n",
            "sigma = 1000000.00000, lambda = 1.00000, score = -0.49993\n",
            "sigma = 1000000.00000, lambda = 10.00000, score = -0.49572\n",
            "sigma = 1000000.00000, lambda = 100.00000, score = -0.37475\n",
            "sigma = 1000000.00000, lambda = 1000.00000, score = -0.08676\n",
            "sigma = 1000000.00000, lambda = 10000.00000, score = -0.00985\n",
            "sigma = 1000000.00000, lambda = 100000.00000, score = -0.00100\n",
            "sigma = 1000000.00000, lambda = 1000000.00000, score = -0.00010\n",
            "sigma = 1000000.00000, lambda = 10000000.00000, score = -0.00001\n",
            "sigma = 1000000.00000, lambda = 100000000.00000, score = -0.00000\n",
            "sigma = 1000000.00000, lambda = 1000000000.00000, score = -0.00000\n",
            "sigma = 10000000.00000, lambda = 0.00100, score = -0.50000\n",
            "sigma = 10000000.00000, lambda = 0.01000, score = -0.50000\n",
            "sigma = 10000000.00000, lambda = 0.10000, score = -0.50000\n",
            "sigma = 10000000.00000, lambda = 1.00000, score = -0.49993\n",
            "sigma = 10000000.00000, lambda = 10.00000, score = -0.49572\n",
            "sigma = 10000000.00000, lambda = 100.00000, score = -0.37475\n",
            "sigma = 10000000.00000, lambda = 1000.00000, score = -0.08676\n",
            "sigma = 10000000.00000, lambda = 10000.00000, score = -0.00985\n",
            "sigma = 10000000.00000, lambda = 100000.00000, score = -0.00100\n",
            "sigma = 10000000.00000, lambda = 1000000.00000, score = -0.00010\n",
            "sigma = 10000000.00000, lambda = 10000000.00000, score = -0.00001\n",
            "sigma = 10000000.00000, lambda = 100000000.00000, score = -0.00000\n",
            "sigma = 10000000.00000, lambda = 1000000000.00000, score = -0.00000\n",
            "sigma = 100000000.00000, lambda = 0.00100, score = -0.50000\n",
            "sigma = 100000000.00000, lambda = 0.01000, score = -0.50000\n",
            "sigma = 100000000.00000, lambda = 0.10000, score = -0.50000\n",
            "sigma = 100000000.00000, lambda = 1.00000, score = -0.49993\n",
            "sigma = 100000000.00000, lambda = 10.00000, score = -0.49572\n",
            "sigma = 100000000.00000, lambda = 100.00000, score = -0.37475\n",
            "sigma = 100000000.00000, lambda = 1000.00000, score = -0.08676\n",
            "sigma = 100000000.00000, lambda = 10000.00000, score = -0.00985\n",
            "sigma = 100000000.00000, lambda = 100000.00000, score = -0.00100\n",
            "sigma = 100000000.00000, lambda = 1000000.00000, score = -0.00010\n",
            "sigma = 100000000.00000, lambda = 10000000.00000, score = -0.00001\n",
            "sigma = 100000000.00000, lambda = 100000000.00000, score = -0.00000\n",
            "sigma = 100000000.00000, lambda = 1000000000.00000, score = -0.00000\n",
            "sigma = 1000000000.00000, lambda = 0.00100, score = -0.50000\n",
            "sigma = 1000000000.00000, lambda = 0.01000, score = -0.50000\n",
            "sigma = 1000000000.00000, lambda = 0.10000, score = -0.50000\n",
            "sigma = 1000000000.00000, lambda = 1.00000, score = -0.49993\n",
            "sigma = 1000000000.00000, lambda = 10.00000, score = -0.49572\n",
            "sigma = 1000000000.00000, lambda = 100.00000, score = -0.37475\n",
            "sigma = 1000000000.00000, lambda = 1000.00000, score = -0.08676\n",
            "sigma = 1000000000.00000, lambda = 10000.00000, score = -0.00985\n",
            "sigma = 1000000000.00000, lambda = 100000.00000, score = -0.00100\n",
            "sigma = 1000000000.00000, lambda = 1000000.00000, score = -0.00010\n",
            "sigma = 1000000000.00000, lambda = 10000000.00000, score = -0.00001\n",
            "sigma = 1000000000.00000, lambda = 100000000.00000, score = -0.00000\n",
            "sigma = 1000000000.00000, lambda = 1000000000.00000, score = -0.00000\n",
            "Found optimal sigma = 0.100, lambda = 0.100.\n",
            "Optimizing theta...\n",
            "Approximate alpha-relative PE-divergence = 0.62\n",
            "Approximate alpha-relative KL-divergence = 0.70\n",
            "RuLSIF completed.\n",
            "Method: RuLSIF\n",
            "\n",
            "Alpha: 0.1\n",
            "\n",
            "Kernel Information:\n",
            "  Kernel type: Gaussian\n",
            "  Number of kernels: 100\n",
            "  Bandwidth(sigma): 0.1\n",
            "  Centers: matrix([[-0.09591373],..\n",
            "\n",
            "Kernel Weights (theta):\n",
            "  array([0.04990797, 0.0550548 , 0.04784736, 0.04951904, 0.04840418,..\n",
            "\n",
            "Regularization Parameter (lambda): 0.1\n",
            "\n",
            "Alpha-Relative PE-Divergence: 0.6187941335987046\n",
            "\n",
            "Alpha-Relative KL-Divergence: 0.7037648129307482\n",
            "\n",
            "Function to Estimate Density Ratio:\n",
            "  compute_density_ratio(x)\n",
            "  \n"
          ],
          "name": "stdout"
        }
      ]
    },
    {
      "cell_type": "code",
      "metadata": {
        "colab": {
          "base_uri": "https://localhost:8080/",
          "height": 281
        },
        "id": "yZHEugsczeth",
        "outputId": "0db7cb5d-32f5-4cec-cbe1-872b5c7c140d"
      },
      "source": [
        "from matplotlib import pyplot as plt\n",
        "from numpy import linspace\n",
        "\n",
        "def true_alpha_density_ratio(sample):\n",
        "    return norm.pdf(sample, 0, 1./8) / (alpha * norm.pdf(sample, 0, 1./8) + (1 - alpha) * norm.pdf(sample, 0, 1./2))\n",
        "\n",
        "def estimated_alpha_density_ratio(sample):\n",
        "    return densratio_obj.compute_density_ratio(sample)\n",
        "\n",
        "sample_points = np.linspace(-1, 3, 400)\n",
        "plt.plot(sample_points, true_alpha_density_ratio(sample_points), 'b-', label='True Alpha-Relative Density Ratio')\n",
        "plt.plot(sample_points, estimated_alpha_density_ratio(sample_points), 'r-', label='Estimated Alpha-Relative Density Ratio')\n",
        "plt.title(\"Alpha-Relative Density Ratio - Normal Random Variables (alpha={:03.2f})\".format(alpha))\n",
        "plt.legend()\n",
        "plt.show()"
      ],
      "execution_count": 5,
      "outputs": [
        {
          "output_type": "display_data",
          "data": {
            "image/png": "[encoded data removed]",
            "text/plain": [
              "<Figure size 432x288 with 1 Axes>"
            ]
          },
          "metadata": {
            "tags": [],
            "needs_background": "light"
          }
        }
      ]
    },
    {
      "cell_type": "code",
      "metadata": {
        "id": "kejH-zZCzq6u"
      },
      "source": [
        "import numpy as np\n",
        "import pandas as pd\n",
        "import matplotlib.pyplot as plt\n",
        "# ちょっと分散の違う正規分布\n",
        "normal_data = np.random.normal(100, 10, 10000)\n",
        "abnormal_data = np.random.normal(100, 9, 10000)"
      ],
      "execution_count": 6,
      "outputs": []
    },
    {
      "cell_type": "code",
      "metadata": {
        "colab": {
          "base_uri": "https://localhost:8080/",
          "height": 265
        },
        "id": "LrMH2vMPz1qm",
        "outputId": "7b281dde-0a51-4386-b047-9f8184b9b810"
      },
      "source": [
        "plt.hist(abnormal_data, bins=25, alpha=0.3, color='r', range=[80,130])\n",
        "plt.hist(normal_data, bins=25, alpha=0.3, color='b', range=[80,130])\n",
        "plt.show()"
      ],
      "execution_count": 7,
      "outputs": [
        {
          "output_type": "display_data",
          "data": {
            "image/png": "[encoded data removed]",
            "text/plain": [
              "<Figure size 432x288 with 1 Axes>"
            ]
          },
          "metadata": {
            "tags": [],
            "needs_background": "light"
          }
        }
      ]
    },
    {
      "cell_type": "code",
      "metadata": {
        "colab": {
          "base_uri": "https://localhost:8080/",
          "height": 265
        },
        "id": "ItwSb3Cyz3Qi",
        "outputId": "97ec0604-db1c-435c-c536-2762b11d9ece"
      },
      "source": [
        "normal_hist = plt.hist(normal_data, bins=25, alpha=0.3, color='b', range=[80,130])\n",
        "abnormal_hist = plt.hist(abnormal_data, bins=25, alpha=0.3, color='b', range=[80,130])\n",
        "\n",
        "\n",
        "x_range_list = list(normal_hist[1] )\n",
        "true_x_range_list = []\n",
        "\"\"\"\n",
        "plt.hist()[1]は植木算における木の棒、plt.hist()[0]は木の間隔なので長さが１違う！\n",
        "だから len(x_range_list)-1\n",
        "\"\"\"\n",
        "for i in range(0, len(x_range_list) - 1):\n",
        "    true_x_range_list.append((x_range_list[i] + x_range_list[i+1])/2)\n",
        "\n",
        "normal_data_df = pd.DataFrame()\n",
        "abnormal_data_df = pd.DataFrame()\n",
        "\n",
        "normal_data_df['action_count'] = true_x_range_list\n",
        "normal_data_df['frequency'] = normal_hist[0]/len(normal_data)\n",
        "\n",
        "abnormal_data_df['action_count'] = true_x_range_list\n",
        "abnormal_data_df['frequency'] = abnormal_hist[0]/len(abnormal_data)"
      ],
      "execution_count": 8,
      "outputs": [
        {
          "output_type": "display_data",
          "data": {
            "image/png": "[encoded data removed]",
            "text/plain": [
              "<Figure size 432x288 with 1 Axes>"
            ]
          },
          "metadata": {
            "tags": [],
            "needs_background": "light"
          }
        }
      ]
    },
    {
      "cell_type": "code",
      "metadata": {
        "colab": {
          "base_uri": "https://localhost:8080/",
          "height": 824
        },
        "id": "AW-YmQhA0C-Z",
        "outputId": "347a329c-9810-4843-ad37-30b7724b7baa"
      },
      "source": [
        "abnormal_data_df"
      ],
      "execution_count": 9,
      "outputs": [
        {
          "output_type": "execute_result",
          "data": {
            "text/html": [
              "<div>\n",
              "<style scoped>\n",
              "    .dataframe tbody tr th:only-of-type {\n",
              "        vertical-align: middle;\n",
              "    }\n",
              "\n",
              "    .dataframe tbody tr th {\n",
              "        vertical-align: top;\n",
              "    }\n",
              "\n",
              "    .dataframe thead th {\n",
              "        text-align: right;\n",
              "    }\n",
              "</style>\n",
              "<table border=\"1\" class=\"dataframe\">\n",
              "  <thead>\n",
              "    <tr style=\"text-align: right;\">\n",
              "      <th></th>\n",
              "      <th>action_count</th>\n",
              "      <th>frequency</th>\n",
              "    </tr>\n",
              "  </thead>\n",
              "  <tbody>\n",
              "    <tr>\n",
              "      <th>0</th>\n",
              "      <td>81.0</td>\n",
              "      <td>0.0107</td>\n",
              "    </tr>\n",
              "    <tr>\n",
              "      <th>1</th>\n",
              "      <td>83.0</td>\n",
              "      <td>0.0142</td>\n",
              "    </tr>\n",
              "    <tr>\n",
              "      <th>2</th>\n",
              "      <td>85.0</td>\n",
              "      <td>0.0206</td>\n",
              "    </tr>\n",
              "    <tr>\n",
              "      <th>3</th>\n",
              "      <td>87.0</td>\n",
              "      <td>0.0297</td>\n",
              "    </tr>\n",
              "    <tr>\n",
              "      <th>4</th>\n",
              "      <td>89.0</td>\n",
              "      <td>0.0448</td>\n",
              "    </tr>\n",
              "    <tr>\n",
              "      <th>5</th>\n",
              "      <td>91.0</td>\n",
              "      <td>0.0547</td>\n",
              "    </tr>\n",
              "    <tr>\n",
              "      <th>6</th>\n",
              "      <td>93.0</td>\n",
              "      <td>0.0649</td>\n",
              "    </tr>\n",
              "    <tr>\n",
              "      <th>7</th>\n",
              "      <td>95.0</td>\n",
              "      <td>0.0804</td>\n",
              "    </tr>\n",
              "    <tr>\n",
              "      <th>8</th>\n",
              "      <td>97.0</td>\n",
              "      <td>0.0835</td>\n",
              "    </tr>\n",
              "    <tr>\n",
              "      <th>9</th>\n",
              "      <td>99.0</td>\n",
              "      <td>0.0830</td>\n",
              "    </tr>\n",
              "    <tr>\n",
              "      <th>10</th>\n",
              "      <td>101.0</td>\n",
              "      <td>0.0862</td>\n",
              "    </tr>\n",
              "    <tr>\n",
              "      <th>11</th>\n",
              "      <td>103.0</td>\n",
              "      <td>0.0827</td>\n",
              "    </tr>\n",
              "    <tr>\n",
              "      <th>12</th>\n",
              "      <td>105.0</td>\n",
              "      <td>0.0776</td>\n",
              "    </tr>\n",
              "    <tr>\n",
              "      <th>13</th>\n",
              "      <td>107.0</td>\n",
              "      <td>0.0627</td>\n",
              "    </tr>\n",
              "    <tr>\n",
              "      <th>14</th>\n",
              "      <td>109.0</td>\n",
              "      <td>0.0532</td>\n",
              "    </tr>\n",
              "    <tr>\n",
              "      <th>15</th>\n",
              "      <td>111.0</td>\n",
              "      <td>0.0446</td>\n",
              "    </tr>\n",
              "    <tr>\n",
              "      <th>16</th>\n",
              "      <td>113.0</td>\n",
              "      <td>0.0297</td>\n",
              "    </tr>\n",
              "    <tr>\n",
              "      <th>17</th>\n",
              "      <td>115.0</td>\n",
              "      <td>0.0219</td>\n",
              "    </tr>\n",
              "    <tr>\n",
              "      <th>18</th>\n",
              "      <td>117.0</td>\n",
              "      <td>0.0147</td>\n",
              "    </tr>\n",
              "    <tr>\n",
              "      <th>19</th>\n",
              "      <td>119.0</td>\n",
              "      <td>0.0102</td>\n",
              "    </tr>\n",
              "    <tr>\n",
              "      <th>20</th>\n",
              "      <td>121.0</td>\n",
              "      <td>0.0060</td>\n",
              "    </tr>\n",
              "    <tr>\n",
              "      <th>21</th>\n",
              "      <td>123.0</td>\n",
              "      <td>0.0044</td>\n",
              "    </tr>\n",
              "    <tr>\n",
              "      <th>22</th>\n",
              "      <td>125.0</td>\n",
              "      <td>0.0026</td>\n",
              "    </tr>\n",
              "    <tr>\n",
              "      <th>23</th>\n",
              "      <td>127.0</td>\n",
              "      <td>0.0014</td>\n",
              "    </tr>\n",
              "    <tr>\n",
              "      <th>24</th>\n",
              "      <td>129.0</td>\n",
              "      <td>0.0008</td>\n",
              "    </tr>\n",
              "  </tbody>\n",
              "</table>\n",
              "</div>"
            ],
            "text/plain": [
              "    action_count  frequency\n",
              "0           81.0     0.0107\n",
              "1           83.0     0.0142\n",
              "2           85.0     0.0206\n",
              "3           87.0     0.0297\n",
              "4           89.0     0.0448\n",
              "5           91.0     0.0547\n",
              "6           93.0     0.0649\n",
              "7           95.0     0.0804\n",
              "8           97.0     0.0835\n",
              "9           99.0     0.0830\n",
              "10         101.0     0.0862\n",
              "11         103.0     0.0827\n",
              "12         105.0     0.0776\n",
              "13         107.0     0.0627\n",
              "14         109.0     0.0532\n",
              "15         111.0     0.0446\n",
              "16         113.0     0.0297\n",
              "17         115.0     0.0219\n",
              "18         117.0     0.0147\n",
              "19         119.0     0.0102\n",
              "20         121.0     0.0060\n",
              "21         123.0     0.0044\n",
              "22         125.0     0.0026\n",
              "23         127.0     0.0014\n",
              "24         129.0     0.0008"
            ]
          },
          "metadata": {
            "tags": []
          },
          "execution_count": 9
        }
      ]
    },
    {
      "cell_type": "code",
      "metadata": {
        "colab": {
          "base_uri": "https://localhost:8080/",
          "height": 280
        },
        "id": "dc1Ig-g00Ev3",
        "outputId": "3e56a687-354e-430a-d628-3e389d891467"
      },
      "source": [
        "plt.plot(true_x_range_list, normal_data_df['frequency']/abnormal_data_df['frequency'])\n",
        "plt.xlabel('action_count')\n",
        "plt.ylabel('density ratio')\n",
        "plt.show()"
      ],
      "execution_count": 10,
      "outputs": [
        {
          "output_type": "display_data",
          "data": {
            "image/png": "[encoded data removed]",
            "text/plain": [
              "<Figure size 432x288 with 1 Axes>"
            ]
          },
          "metadata": {
            "tags": [],
            "needs_background": "light"
          }
        }
      ]
    },
    {
      "cell_type": "code",
      "metadata": {
        "colab": {
          "base_uri": "https://localhost:8080/"
        },
        "id": "upk1TTke0HIs",
        "outputId": "f18b94e9-d7dc-4782-a1ce-acbbcd163d82"
      },
      "source": [
        "abnormality = np.mean((1 - normal_data_df['frequency']/abnormal_data_df['frequency'])**2)\n",
        "abnormality"
      ],
      "execution_count": 11,
      "outputs": [
        {
          "output_type": "execute_result",
          "data": {
            "text/plain": [
              "0.06185243808988217"
            ]
          },
          "metadata": {
            "tags": []
          },
          "execution_count": 11
        }
      ]
    },
    {
      "cell_type": "code",
      "metadata": {
        "colab": {
          "base_uri": "https://localhost:8080/"
        },
        "id": "6TmcsxjA0Oyl",
        "outputId": "c420d0db-043f-4057-84b9-3eba8bcc319c"
      },
      "source": [
        "from numpy import random\n",
        "from scipy.stats import norm\n",
        "from densratio import densratio\n",
        "\n",
        "x = np.random.normal(100, 10, 10000)\n",
        "y = np.random.normal(100, 9, 10000)\n",
        "result = densratio(x, y)\n",
        "print(result)"
      ],
      "execution_count": 12,
      "outputs": [
        {
          "output_type": "stream",
          "text": [
            "RuLSIF starting...\n",
            "Searching for the optimal sigma and lambda...\n",
            "sigma = 0.00100, lambda = 0.00100, score = -0.00169\n",
            "sigma = 0.00100, lambda = 0.01000, score = -0.00019\n",
            "sigma = 0.00100, lambda = 0.10000, score = -0.00002\n",
            "sigma = 0.00100, lambda = 1.00000, score = -0.00000\n",
            "sigma = 0.00100, lambda = 10.00000, score = -0.00000\n",
            "sigma = 0.00100, lambda = 100.00000, score = -0.00000\n",
            "sigma = 0.00100, lambda = 1000.00000, score = -0.00000\n",
            "sigma = 0.00100, lambda = 10000.00000, score = -0.00000\n",
            "sigma = 0.00100, lambda = 100000.00000, score = -0.00000\n",
            "sigma = 0.00100, lambda = 1000000.00000, score = -0.00000\n",
            "sigma = 0.00100, lambda = 10000000.00000, score = -0.00000\n",
            "sigma = 0.00100, lambda = 100000000.00000, score = -0.00000\n",
            "sigma = 0.00100, lambda = 1000000000.00000, score = -0.00000\n",
            "sigma = 0.01000, lambda = 0.00100, score = -0.02940\n",
            "sigma = 0.01000, lambda = 0.01000, score = -0.00558\n",
            "sigma = 0.01000, lambda = 0.10000, score = -0.00062\n",
            "sigma = 0.01000, lambda = 1.00000, score = -0.00006\n",
            "sigma = 0.01000, lambda = 10.00000, score = -0.00001\n",
            "sigma = 0.01000, lambda = 100.00000, score = -0.00000\n",
            "sigma = 0.01000, lambda = 1000.00000, score = -0.00000\n",
            "sigma = 0.01000, lambda = 10000.00000, score = -0.00000\n",
            "sigma = 0.01000, lambda = 100000.00000, score = -0.00000\n",
            "sigma = 0.01000, lambda = 1000000.00000, score = -0.00000\n",
            "sigma = 0.01000, lambda = 10000000.00000, score = -0.00000\n",
            "sigma = 0.01000, lambda = 100000000.00000, score = -0.00000\n",
            "sigma = 0.01000, lambda = 1000000000.00000, score = -0.00000\n",
            "sigma = 0.10000, lambda = 0.00100, score = -0.26398\n",
            "sigma = 0.10000, lambda = 0.01000, score = -0.18558\n",
            "sigma = 0.10000, lambda = 0.10000, score = -0.04667\n",
            "sigma = 0.10000, lambda = 1.00000, score = -0.00558\n",
            "sigma = 0.10000, lambda = 10.00000, score = -0.00057\n",
            "sigma = 0.10000, lambda = 100.00000, score = -0.00006\n",
            "sigma = 0.10000, lambda = 1000.00000, score = -0.00001\n",
            "sigma = 0.10000, lambda = 10000.00000, score = -0.00000\n",
            "sigma = 0.10000, lambda = 100000.00000, score = -0.00000\n",
            "sigma = 0.10000, lambda = 1000000.00000, score = -0.00000\n",
            "sigma = 0.10000, lambda = 10000000.00000, score = -0.00000\n",
            "sigma = 0.10000, lambda = 100000000.00000, score = -0.00000\n",
            "sigma = 0.10000, lambda = 1000000000.00000, score = -0.00000\n",
            "sigma = 1.00000, lambda = 0.00100, score = -0.48547\n",
            "sigma = 1.00000, lambda = 0.01000, score = -0.47523\n",
            "sigma = 1.00000, lambda = 0.10000, score = -0.42429\n",
            "sigma = 1.00000, lambda = 1.00000, score = -0.25064\n",
            "sigma = 1.00000, lambda = 10.00000, score = -0.04912\n",
            "sigma = 1.00000, lambda = 100.00000, score = -0.00543\n",
            "sigma = 1.00000, lambda = 1000.00000, score = -0.00055\n",
            "sigma = 1.00000, lambda = 10000.00000, score = -0.00005\n",
            "sigma = 1.00000, lambda = 100000.00000, score = -0.00001\n",
            "sigma = 1.00000, lambda = 1000000.00000, score = -0.00000\n",
            "sigma = 1.00000, lambda = 10000000.00000, score = -0.00000\n",
            "sigma = 1.00000, lambda = 100000000.00000, score = -0.00000\n",
            "sigma = 1.00000, lambda = 1000000000.00000, score = -0.00000\n",
            "sigma = 10.00000, lambda = 0.00100, score = 0.38970\n",
            "sigma = 10.00000, lambda = 0.01000, score = -0.37285\n",
            "sigma = 10.00000, lambda = 0.10000, score = -0.49058\n",
            "sigma = 10.00000, lambda = 1.00000, score = -0.47598\n",
            "sigma = 10.00000, lambda = 10.00000, score = -0.43234\n",
            "sigma = 10.00000, lambda = 100.00000, score = -0.21549\n",
            "sigma = 10.00000, lambda = 1000.00000, score = -0.03289\n",
            "sigma = 10.00000, lambda = 10000.00000, score = -0.00346\n",
            "sigma = 10.00000, lambda = 100000.00000, score = -0.00035\n",
            "sigma = 10.00000, lambda = 1000000.00000, score = -0.00003\n",
            "sigma = 10.00000, lambda = 10000000.00000, score = -0.00000\n",
            "sigma = 10.00000, lambda = 100000000.00000, score = -0.00000\n",
            "sigma = 10.00000, lambda = 1000000000.00000, score = -0.00000\n",
            "sigma = 100.00000, lambda = 0.00100, score = -0.21962\n",
            "sigma = 100.00000, lambda = 0.01000, score = -0.47655\n",
            "sigma = 100.00000, lambda = 0.10000, score = -0.49930\n",
            "sigma = 100.00000, lambda = 1.00000, score = -0.49920\n",
            "sigma = 100.00000, lambda = 10.00000, score = -0.49498\n",
            "sigma = 100.00000, lambda = 100.00000, score = -0.37214\n",
            "sigma = 100.00000, lambda = 1000.00000, score = -0.08529\n",
            "sigma = 100.00000, lambda = 10000.00000, score = -0.00966\n",
            "sigma = 100.00000, lambda = 100000.00000, score = -0.00098\n",
            "sigma = 100.00000, lambda = 1000000.00000, score = -0.00010\n",
            "sigma = 100.00000, lambda = 10000000.00000, score = -0.00001\n",
            "sigma = 100.00000, lambda = 100000000.00000, score = -0.00000\n",
            "sigma = 100.00000, lambda = 1000000000.00000, score = -0.00000\n",
            "sigma = 1000.00000, lambda = 0.00100, score = -0.49999\n",
            "sigma = 1000.00000, lambda = 0.01000, score = -0.49999\n",
            "sigma = 1000.00000, lambda = 0.10000, score = -0.49999\n",
            "sigma = 1000.00000, lambda = 1.00000, score = -0.49994\n",
            "sigma = 1000.00000, lambda = 10.00000, score = -0.49585\n",
            "sigma = 1000.00000, lambda = 100.00000, score = -0.37496\n",
            "sigma = 1000.00000, lambda = 1000.00000, score = -0.08676\n",
            "sigma = 1000.00000, lambda = 10000.00000, score = -0.00985\n",
            "sigma = 1000.00000, lambda = 100000.00000, score = -0.00100\n",
            "sigma = 1000.00000, lambda = 1000000.00000, score = -0.00010\n",
            "sigma = 1000.00000, lambda = 10000000.00000, score = -0.00001\n",
            "sigma = 1000.00000, lambda = 100000000.00000, score = -0.00000\n",
            "sigma = 1000.00000, lambda = 1000000000.00000, score = -0.00000\n",
            "sigma = 10000.00000, lambda = 0.00100, score = -0.50000\n",
            "sigma = 10000.00000, lambda = 0.01000, score = -0.50000\n",
            "sigma = 10000.00000, lambda = 0.10000, score = -0.50000\n",
            "sigma = 10000.00000, lambda = 1.00000, score = -0.49995\n",
            "sigma = 10000.00000, lambda = 10.00000, score = -0.49586\n",
            "sigma = 10000.00000, lambda = 100.00000, score = -0.37499\n",
            "sigma = 10000.00000, lambda = 1000.00000, score = -0.08678\n",
            "sigma = 10000.00000, lambda = 10000.00000, score = -0.00985\n",
            "sigma = 10000.00000, lambda = 100000.00000, score = -0.00100\n",
            "sigma = 10000.00000, lambda = 1000000.00000, score = -0.00010\n",
            "sigma = 10000.00000, lambda = 10000000.00000, score = -0.00001\n",
            "sigma = 10000.00000, lambda = 100000000.00000, score = -0.00000\n",
            "sigma = 10000.00000, lambda = 1000000000.00000, score = -0.00000\n",
            "sigma = 100000.00000, lambda = 0.00100, score = -0.50000\n",
            "sigma = 100000.00000, lambda = 0.01000, score = -0.50000\n",
            "sigma = 100000.00000, lambda = 0.10000, score = -0.50000\n",
            "sigma = 100000.00000, lambda = 1.00000, score = -0.49995\n",
            "sigma = 100000.00000, lambda = 10.00000, score = -0.49586\n",
            "sigma = 100000.00000, lambda = 100.00000, score = -0.37499\n",
            "sigma = 100000.00000, lambda = 1000.00000, score = -0.08678\n",
            "sigma = 100000.00000, lambda = 10000.00000, score = -0.00985\n",
            "sigma = 100000.00000, lambda = 100000.00000, score = -0.00100\n",
            "sigma = 100000.00000, lambda = 1000000.00000, score = -0.00010\n",
            "sigma = 100000.00000, lambda = 10000000.00000, score = -0.00001\n",
            "sigma = 100000.00000, lambda = 100000000.00000, score = -0.00000\n",
            "sigma = 100000.00000, lambda = 1000000000.00000, score = -0.00000\n",
            "sigma = 1000000.00000, lambda = 0.00100, score = -0.50000\n",
            "sigma = 1000000.00000, lambda = 0.01000, score = -0.50000\n",
            "sigma = 1000000.00000, lambda = 0.10000, score = -0.50000\n",
            "sigma = 1000000.00000, lambda = 1.00000, score = -0.49995\n",
            "sigma = 1000000.00000, lambda = 10.00000, score = -0.49586\n",
            "sigma = 1000000.00000, lambda = 100.00000, score = -0.37499\n",
            "sigma = 1000000.00000, lambda = 1000.00000, score = -0.08678\n",
            "sigma = 1000000.00000, lambda = 10000.00000, score = -0.00985\n",
            "sigma = 1000000.00000, lambda = 100000.00000, score = -0.00100\n",
            "sigma = 1000000.00000, lambda = 1000000.00000, score = -0.00010\n",
            "sigma = 1000000.00000, lambda = 10000000.00000, score = -0.00001\n",
            "sigma = 1000000.00000, lambda = 100000000.00000, score = -0.00000\n",
            "sigma = 1000000.00000, lambda = 1000000000.00000, score = -0.00000\n",
            "sigma = 10000000.00000, lambda = 0.00100, score = -0.50000\n",
            "sigma = 10000000.00000, lambda = 0.01000, score = -0.50000\n",
            "sigma = 10000000.00000, lambda = 0.10000, score = -0.50000\n",
            "sigma = 10000000.00000, lambda = 1.00000, score = -0.49995\n",
            "sigma = 10000000.00000, lambda = 10.00000, score = -0.49586\n",
            "sigma = 10000000.00000, lambda = 100.00000, score = -0.37499\n",
            "sigma = 10000000.00000, lambda = 1000.00000, score = -0.08678\n",
            "sigma = 10000000.00000, lambda = 10000.00000, score = -0.00985\n",
            "sigma = 10000000.00000, lambda = 100000.00000, score = -0.00100\n",
            "sigma = 10000000.00000, lambda = 1000000.00000, score = -0.00010\n",
            "sigma = 10000000.00000, lambda = 10000000.00000, score = -0.00001\n",
            "sigma = 10000000.00000, lambda = 100000000.00000, score = -0.00000\n",
            "sigma = 10000000.00000, lambda = 1000000000.00000, score = -0.00000\n",
            "sigma = 100000000.00000, lambda = 0.00100, score = -0.50000\n",
            "sigma = 100000000.00000, lambda = 0.01000, score = -0.50000\n",
            "sigma = 100000000.00000, lambda = 0.10000, score = -0.50000\n",
            "sigma = 100000000.00000, lambda = 1.00000, score = -0.49995\n",
            "sigma = 100000000.00000, lambda = 10.00000, score = -0.49586\n",
            "sigma = 100000000.00000, lambda = 100.00000, score = -0.37499\n",
            "sigma = 100000000.00000, lambda = 1000.00000, score = -0.08678\n",
            "sigma = 100000000.00000, lambda = 10000.00000, score = -0.00985\n",
            "sigma = 100000000.00000, lambda = 100000.00000, score = -0.00100\n",
            "sigma = 100000000.00000, lambda = 1000000.00000, score = -0.00010\n",
            "sigma = 100000000.00000, lambda = 10000000.00000, score = -0.00001\n",
            "sigma = 100000000.00000, lambda = 100000000.00000, score = -0.00000\n",
            "sigma = 100000000.00000, lambda = 1000000000.00000, score = -0.00000\n",
            "sigma = 1000000000.00000, lambda = 0.00100, score = -0.50000\n",
            "sigma = 1000000000.00000, lambda = 0.01000, score = -0.50000\n",
            "sigma = 1000000000.00000, lambda = 0.10000, score = -0.50000\n",
            "sigma = 1000000000.00000, lambda = 1.00000, score = -0.49995\n",
            "sigma = 1000000000.00000, lambda = 10.00000, score = -0.49586\n",
            "sigma = 1000000000.00000, lambda = 100.00000, score = -0.37499\n",
            "sigma = 1000000000.00000, lambda = 1000.00000, score = -0.08678\n",
            "sigma = 1000000000.00000, lambda = 10000.00000, score = -0.00985\n",
            "sigma = 1000000000.00000, lambda = 100000.00000, score = -0.00100\n",
            "sigma = 1000000000.00000, lambda = 1000000.00000, score = -0.00010\n",
            "sigma = 1000000000.00000, lambda = 10000000.00000, score = -0.00001\n",
            "sigma = 1000000000.00000, lambda = 100000000.00000, score = -0.00000\n",
            "sigma = 1000000000.00000, lambda = 1000000000.00000, score = -0.00000\n",
            "Found optimal sigma = 100000000.000, lambda = 0.001.\n",
            "Optimizing theta...\n",
            "Approximate alpha-relative PE-divergence = -0.00\n",
            "Approximate alpha-relative KL-divergence = -0.00\n",
            "RuLSIF completed.\n",
            "Method: RuLSIF\n",
            "\n",
            "Alpha: 0\n",
            "\n",
            "Kernel Information:\n",
            "  Kernel type: Gaussian\n",
            "  Number of kernels: 100\n",
            "  Bandwidth(sigma): 100000000.0\n",
            "  Centers: matrix([[105.1252812 ],..\n",
            "\n",
            "Kernel Weights (theta):\n",
            "  array([0.0099999, 0.0099999, 0.0099999, 0.0099999, 0.0099999, 0.0099999,..\n",
            "\n",
            "Regularization Parameter (lambda): 0.001\n",
            "\n",
            "Alpha-Relative PE-Divergence: -4.9999837603564856e-11\n",
            "\n",
            "Alpha-Relative KL-Divergence: -9.999949995094218e-06\n",
            "\n",
            "Function to Estimate Density Ratio:\n",
            "  compute_density_ratio(x)\n",
            "  \n"
          ],
          "name": "stdout"
        }
      ]
    },
    {
      "cell_type": "code",
      "metadata": {
        "colab": {
          "base_uri": "https://localhost:8080/"
        },
        "id": "gq88twlK1B8Z",
        "outputId": "9bdf8b87-d34a-4eca-8816-3633e3ccf5ee"
      },
      "source": [
        "result.compute_density_ratio(y)\n",
        "abnormality = - np.log(result.compute_density_ratio(y))\n",
        "\n",
        "abnormality"
      ],
      "execution_count": 13,
      "outputs": [
        {
          "output_type": "execute_result",
          "data": {
            "text/plain": [
              "array([9.99994999e-06, 9.99995000e-06, 9.99994999e-06, ...,\n",
              "       9.99995001e-06, 9.99995000e-06, 9.99995000e-06])"
            ]
          },
          "metadata": {
            "tags": []
          },
          "execution_count": 13
        }
      ]
    },
    {
      "cell_type": "code",
      "metadata": {
        "colab": {
          "base_uri": "https://localhost:8080/"
        },
        "id": "ov-RAelI1Ekl",
        "outputId": "b6039e50-b60b-40d7-f00a-d89c0c5c4748"
      },
      "source": [
        "np.mean(abnormality)"
      ],
      "execution_count": 14,
      "outputs": [
        {
          "output_type": "execute_result",
          "data": {
            "text/plain": [
              "9.99994999435096e-06"
            ]
          },
          "metadata": {
            "tags": []
          },
          "execution_count": 14
        }
      ]
    },
    {
      "cell_type": "code",
      "metadata": {
        "id": "rqrZKPw-1Fwp"
      },
      "source": [
        "import numpy as np\n",
        "import pandas as pd\n",
        "import matplotlib.pyplot as plt\n",
        "# 正規分布＋平均の違う正規分布で多峰な分布を作る\n",
        "normal_data = np.random.normal(100, 10, 10000)\n",
        "abnormal_data = np.append(np.random.normal(100, 10, 10000), np.random.normal(130, 1, 10))"
      ],
      "execution_count": 15,
      "outputs": []
    },
    {
      "cell_type": "code",
      "metadata": {
        "colab": {
          "base_uri": "https://localhost:8080/",
          "height": 265
        },
        "id": "aBWkjifk4W1i",
        "outputId": "ed592594-878c-4bd8-b95c-d49f11e477ae"
      },
      "source": [
        "plt.hist(abnormal_data, bins=25, alpha=0.3, color='r', range=[80,150])\n",
        "plt.hist(normal_data, bins=25, alpha=0.3, color='b', range=[80,150])\n",
        "plt.show()"
      ],
      "execution_count": 16,
      "outputs": [
        {
          "output_type": "display_data",
          "data": {
            "image/png": "[encoded data removed]",
            "text/plain": [
              "<Figure size 432x288 with 1 Axes>"
            ]
          },
          "metadata": {
            "tags": [],
            "needs_background": "light"
          }
        }
      ]
    },
    {
      "cell_type": "code",
      "metadata": {
        "colab": {
          "base_uri": "https://localhost:8080/",
          "height": 265
        },
        "id": "6oBATiC_4X6b",
        "outputId": "d4a2b820-3bf0-4f1e-ed34-affd60eb7b34"
      },
      "source": [
        "normal_hist = plt.hist(normal_data, bins=25, alpha=0.3, color='b', range=[80,normal_data.max()])\n",
        "abnormal_hist = plt.hist(abnormal_data, bins=25, alpha=0.3, color='b', range=[80,normal_data.max()])\n",
        "\n",
        "\n",
        "x_range_list = list(normal_hist[1] )\n",
        "true_x_range_list = []\n",
        "for i in range(0, len(x_range_list) - 1):\n",
        "    true_x_range_list.append((x_range_list[i] + x_range_list[i+1])/2)\n",
        "\n",
        "normal_data_df = pd.DataFrame()\n",
        "abnormal_data_df = pd.DataFrame()\n",
        "\n",
        "normal_data_df['action_count'] = true_x_range_list\n",
        "normal_data_df['frequency'] = normal_hist[0]/len(normal_data)\n",
        "\n",
        "abnormal_data_df['action_count'] = true_x_range_list\n",
        "abnormal_data_df['frequency'] = abnormal_hist[0]/len(abnormal_data)"
      ],
      "execution_count": 17,
      "outputs": [
        {
          "output_type": "display_data",
          "data": {
            "image/png": "[encoded data removed]",
            "text/plain": [
              "<Figure size 432x288 with 1 Axes>"
            ]
          },
          "metadata": {
            "tags": [],
            "needs_background": "light"
          }
        }
      ]
    },
    {
      "cell_type": "code",
      "metadata": {
        "colab": {
          "base_uri": "https://localhost:8080/",
          "height": 824
        },
        "id": "S84snbUs4bDo",
        "outputId": "88fb0ded-4f86-480e-f3f4-9116283cf9c3"
      },
      "source": [
        "normal_data_df"
      ],
      "execution_count": 18,
      "outputs": [
        {
          "output_type": "execute_result",
          "data": {
            "text/html": [
              "<div>\n",
              "<style scoped>\n",
              "    .dataframe tbody tr th:only-of-type {\n",
              "        vertical-align: middle;\n",
              "    }\n",
              "\n",
              "    .dataframe tbody tr th {\n",
              "        vertical-align: top;\n",
              "    }\n",
              "\n",
              "    .dataframe thead th {\n",
              "        text-align: right;\n",
              "    }\n",
              "</style>\n",
              "<table border=\"1\" class=\"dataframe\">\n",
              "  <thead>\n",
              "    <tr style=\"text-align: right;\">\n",
              "      <th></th>\n",
              "      <th>action_count</th>\n",
              "      <th>frequency</th>\n",
              "    </tr>\n",
              "  </thead>\n",
              "  <tbody>\n",
              "    <tr>\n",
              "      <th>0</th>\n",
              "      <td>81.111106</td>\n",
              "      <td>0.0156</td>\n",
              "    </tr>\n",
              "    <tr>\n",
              "      <th>1</th>\n",
              "      <td>83.333319</td>\n",
              "      <td>0.0221</td>\n",
              "    </tr>\n",
              "    <tr>\n",
              "      <th>2</th>\n",
              "      <td>85.555531</td>\n",
              "      <td>0.0328</td>\n",
              "    </tr>\n",
              "    <tr>\n",
              "      <th>3</th>\n",
              "      <td>87.777744</td>\n",
              "      <td>0.0433</td>\n",
              "    </tr>\n",
              "    <tr>\n",
              "      <th>4</th>\n",
              "      <td>89.999956</td>\n",
              "      <td>0.0562</td>\n",
              "    </tr>\n",
              "    <tr>\n",
              "      <th>5</th>\n",
              "      <td>92.222168</td>\n",
              "      <td>0.0723</td>\n",
              "    </tr>\n",
              "    <tr>\n",
              "      <th>6</th>\n",
              "      <td>94.444381</td>\n",
              "      <td>0.0801</td>\n",
              "    </tr>\n",
              "    <tr>\n",
              "      <th>7</th>\n",
              "      <td>96.666593</td>\n",
              "      <td>0.0847</td>\n",
              "    </tr>\n",
              "    <tr>\n",
              "      <th>8</th>\n",
              "      <td>98.888806</td>\n",
              "      <td>0.0835</td>\n",
              "    </tr>\n",
              "    <tr>\n",
              "      <th>9</th>\n",
              "      <td>101.111018</td>\n",
              "      <td>0.0805</td>\n",
              "    </tr>\n",
              "    <tr>\n",
              "      <th>10</th>\n",
              "      <td>103.333231</td>\n",
              "      <td>0.0829</td>\n",
              "    </tr>\n",
              "    <tr>\n",
              "      <th>11</th>\n",
              "      <td>105.555443</td>\n",
              "      <td>0.0765</td>\n",
              "    </tr>\n",
              "    <tr>\n",
              "      <th>12</th>\n",
              "      <td>107.777656</td>\n",
              "      <td>0.0641</td>\n",
              "    </tr>\n",
              "    <tr>\n",
              "      <th>13</th>\n",
              "      <td>109.999868</td>\n",
              "      <td>0.0524</td>\n",
              "    </tr>\n",
              "    <tr>\n",
              "      <th>14</th>\n",
              "      <td>112.222081</td>\n",
              "      <td>0.0427</td>\n",
              "    </tr>\n",
              "    <tr>\n",
              "      <th>15</th>\n",
              "      <td>114.444293</td>\n",
              "      <td>0.0290</td>\n",
              "    </tr>\n",
              "    <tr>\n",
              "      <th>16</th>\n",
              "      <td>116.666505</td>\n",
              "      <td>0.0215</td>\n",
              "    </tr>\n",
              "    <tr>\n",
              "      <th>17</th>\n",
              "      <td>118.888718</td>\n",
              "      <td>0.0143</td>\n",
              "    </tr>\n",
              "    <tr>\n",
              "      <th>18</th>\n",
              "      <td>121.110930</td>\n",
              "      <td>0.0097</td>\n",
              "    </tr>\n",
              "    <tr>\n",
              "      <th>19</th>\n",
              "      <td>123.333143</td>\n",
              "      <td>0.0059</td>\n",
              "    </tr>\n",
              "    <tr>\n",
              "      <th>20</th>\n",
              "      <td>125.555355</td>\n",
              "      <td>0.0039</td>\n",
              "    </tr>\n",
              "    <tr>\n",
              "      <th>21</th>\n",
              "      <td>127.777568</td>\n",
              "      <td>0.0013</td>\n",
              "    </tr>\n",
              "    <tr>\n",
              "      <th>22</th>\n",
              "      <td>129.999780</td>\n",
              "      <td>0.0012</td>\n",
              "    </tr>\n",
              "    <tr>\n",
              "      <th>23</th>\n",
              "      <td>132.221993</td>\n",
              "      <td>0.0004</td>\n",
              "    </tr>\n",
              "    <tr>\n",
              "      <th>24</th>\n",
              "      <td>134.444205</td>\n",
              "      <td>0.0005</td>\n",
              "    </tr>\n",
              "  </tbody>\n",
              "</table>\n",
              "</div>"
            ],
            "text/plain": [
              "    action_count  frequency\n",
              "0      81.111106     0.0156\n",
              "1      83.333319     0.0221\n",
              "2      85.555531     0.0328\n",
              "3      87.777744     0.0433\n",
              "4      89.999956     0.0562\n",
              "5      92.222168     0.0723\n",
              "6      94.444381     0.0801\n",
              "7      96.666593     0.0847\n",
              "8      98.888806     0.0835\n",
              "9     101.111018     0.0805\n",
              "10    103.333231     0.0829\n",
              "11    105.555443     0.0765\n",
              "12    107.777656     0.0641\n",
              "13    109.999868     0.0524\n",
              "14    112.222081     0.0427\n",
              "15    114.444293     0.0290\n",
              "16    116.666505     0.0215\n",
              "17    118.888718     0.0143\n",
              "18    121.110930     0.0097\n",
              "19    123.333143     0.0059\n",
              "20    125.555355     0.0039\n",
              "21    127.777568     0.0013\n",
              "22    129.999780     0.0012\n",
              "23    132.221993     0.0004\n",
              "24    134.444205     0.0005"
            ]
          },
          "metadata": {
            "tags": []
          },
          "execution_count": 18
        }
      ]
    },
    {
      "cell_type": "code",
      "metadata": {
        "colab": {
          "base_uri": "https://localhost:8080/",
          "height": 824
        },
        "id": "1t7Y9YLJ4cjE",
        "outputId": "9e58af30-c9f2-4413-dddf-edf53ca550df"
      },
      "source": [
        "abnormal_data_df"
      ],
      "execution_count": 19,
      "outputs": [
        {
          "output_type": "execute_result",
          "data": {
            "text/html": [
              "<div>\n",
              "<style scoped>\n",
              "    .dataframe tbody tr th:only-of-type {\n",
              "        vertical-align: middle;\n",
              "    }\n",
              "\n",
              "    .dataframe tbody tr th {\n",
              "        vertical-align: top;\n",
              "    }\n",
              "\n",
              "    .dataframe thead th {\n",
              "        text-align: right;\n",
              "    }\n",
              "</style>\n",
              "<table border=\"1\" class=\"dataframe\">\n",
              "  <thead>\n",
              "    <tr style=\"text-align: right;\">\n",
              "      <th></th>\n",
              "      <th>action_count</th>\n",
              "      <th>frequency</th>\n",
              "    </tr>\n",
              "  </thead>\n",
              "  <tbody>\n",
              "    <tr>\n",
              "      <th>0</th>\n",
              "      <td>81.111106</td>\n",
              "      <td>0.015385</td>\n",
              "    </tr>\n",
              "    <tr>\n",
              "      <th>1</th>\n",
              "      <td>83.333319</td>\n",
              "      <td>0.024376</td>\n",
              "    </tr>\n",
              "    <tr>\n",
              "      <th>2</th>\n",
              "      <td>85.555531</td>\n",
              "      <td>0.029271</td>\n",
              "    </tr>\n",
              "    <tr>\n",
              "      <th>3</th>\n",
              "      <td>87.777744</td>\n",
              "      <td>0.039960</td>\n",
              "    </tr>\n",
              "    <tr>\n",
              "      <th>4</th>\n",
              "      <td>89.999956</td>\n",
              "      <td>0.053347</td>\n",
              "    </tr>\n",
              "    <tr>\n",
              "      <th>5</th>\n",
              "      <td>92.222168</td>\n",
              "      <td>0.067433</td>\n",
              "    </tr>\n",
              "    <tr>\n",
              "      <th>6</th>\n",
              "      <td>94.444381</td>\n",
              "      <td>0.075624</td>\n",
              "    </tr>\n",
              "    <tr>\n",
              "      <th>7</th>\n",
              "      <td>96.666593</td>\n",
              "      <td>0.079520</td>\n",
              "    </tr>\n",
              "    <tr>\n",
              "      <th>8</th>\n",
              "      <td>98.888806</td>\n",
              "      <td>0.089111</td>\n",
              "    </tr>\n",
              "    <tr>\n",
              "      <th>9</th>\n",
              "      <td>101.111018</td>\n",
              "      <td>0.086613</td>\n",
              "    </tr>\n",
              "    <tr>\n",
              "      <th>10</th>\n",
              "      <td>103.333231</td>\n",
              "      <td>0.081319</td>\n",
              "    </tr>\n",
              "    <tr>\n",
              "      <th>11</th>\n",
              "      <td>105.555443</td>\n",
              "      <td>0.084216</td>\n",
              "    </tr>\n",
              "    <tr>\n",
              "      <th>12</th>\n",
              "      <td>107.777656</td>\n",
              "      <td>0.062637</td>\n",
              "    </tr>\n",
              "    <tr>\n",
              "      <th>13</th>\n",
              "      <td>109.999868</td>\n",
              "      <td>0.052248</td>\n",
              "    </tr>\n",
              "    <tr>\n",
              "      <th>14</th>\n",
              "      <td>112.222081</td>\n",
              "      <td>0.045155</td>\n",
              "    </tr>\n",
              "    <tr>\n",
              "      <th>15</th>\n",
              "      <td>114.444293</td>\n",
              "      <td>0.028272</td>\n",
              "    </tr>\n",
              "    <tr>\n",
              "      <th>16</th>\n",
              "      <td>116.666505</td>\n",
              "      <td>0.021678</td>\n",
              "    </tr>\n",
              "    <tr>\n",
              "      <th>17</th>\n",
              "      <td>118.888718</td>\n",
              "      <td>0.014486</td>\n",
              "    </tr>\n",
              "    <tr>\n",
              "      <th>18</th>\n",
              "      <td>121.110930</td>\n",
              "      <td>0.009990</td>\n",
              "    </tr>\n",
              "    <tr>\n",
              "      <th>19</th>\n",
              "      <td>123.333143</td>\n",
              "      <td>0.005694</td>\n",
              "    </tr>\n",
              "    <tr>\n",
              "      <th>20</th>\n",
              "      <td>125.555355</td>\n",
              "      <td>0.003397</td>\n",
              "    </tr>\n",
              "    <tr>\n",
              "      <th>21</th>\n",
              "      <td>127.777568</td>\n",
              "      <td>0.002398</td>\n",
              "    </tr>\n",
              "    <tr>\n",
              "      <th>22</th>\n",
              "      <td>129.999780</td>\n",
              "      <td>0.001399</td>\n",
              "    </tr>\n",
              "    <tr>\n",
              "      <th>23</th>\n",
              "      <td>132.221993</td>\n",
              "      <td>0.000400</td>\n",
              "    </tr>\n",
              "    <tr>\n",
              "      <th>24</th>\n",
              "      <td>134.444205</td>\n",
              "      <td>0.000400</td>\n",
              "    </tr>\n",
              "  </tbody>\n",
              "</table>\n",
              "</div>"
            ],
            "text/plain": [
              "    action_count  frequency\n",
              "0      81.111106   0.015385\n",
              "1      83.333319   0.024376\n",
              "2      85.555531   0.029271\n",
              "3      87.777744   0.039960\n",
              "4      89.999956   0.053347\n",
              "5      92.222168   0.067433\n",
              "6      94.444381   0.075624\n",
              "7      96.666593   0.079520\n",
              "8      98.888806   0.089111\n",
              "9     101.111018   0.086613\n",
              "10    103.333231   0.081319\n",
              "11    105.555443   0.084216\n",
              "12    107.777656   0.062637\n",
              "13    109.999868   0.052248\n",
              "14    112.222081   0.045155\n",
              "15    114.444293   0.028272\n",
              "16    116.666505   0.021678\n",
              "17    118.888718   0.014486\n",
              "18    121.110930   0.009990\n",
              "19    123.333143   0.005694\n",
              "20    125.555355   0.003397\n",
              "21    127.777568   0.002398\n",
              "22    129.999780   0.001399\n",
              "23    132.221993   0.000400\n",
              "24    134.444205   0.000400"
            ]
          },
          "metadata": {
            "tags": []
          },
          "execution_count": 19
        }
      ]
    },
    {
      "cell_type": "code",
      "metadata": {
        "colab": {
          "base_uri": "https://localhost:8080/",
          "height": 280
        },
        "id": "489EBrE-4eWm",
        "outputId": "21c473e0-1da1-4701-d41f-e77172d8dc15"
      },
      "source": [
        "plt.plot(true_x_range_list, normal_data_df['frequency']/abnormal_data_df['frequency'])\n",
        "plt.xlabel('action_count')\n",
        "plt.ylabel('density ratio')\n",
        "plt.show()"
      ],
      "execution_count": 20,
      "outputs": [
        {
          "output_type": "display_data",
          "data": {
            "image/png": "[encoded data removed]",
            "text/plain": [
              "<Figure size 432x288 with 1 Axes>"
            ]
          },
          "metadata": {
            "tags": [],
            "needs_background": "light"
          }
        }
      ]
    },
    {
      "cell_type": "code",
      "metadata": {
        "colab": {
          "base_uri": "https://localhost:8080/"
        },
        "id": "bOw6Bb0V4fvE",
        "outputId": "b402750a-96fe-43b6-b36e-a3f6213d3639"
      },
      "source": [
        "abnormality = np.mean((1 - normal_data_df['frequency']/abnormal_data_df['frequency'])**2)\n",
        "abnormality"
      ],
      "execution_count": 21,
      "outputs": [
        {
          "output_type": "execute_result",
          "data": {
            "text/plain": [
              "0.015414088888863147"
            ]
          },
          "metadata": {
            "tags": []
          },
          "execution_count": 21
        }
      ]
    },
    {
      "cell_type": "code",
      "metadata": {
        "colab": {
          "base_uri": "https://localhost:8080/"
        },
        "id": "CrWvQeZa4h4I",
        "outputId": "c6bc5f39-c272-4431-9915-d3328628efc6"
      },
      "source": [
        "from numpy import random\n",
        "from scipy.stats import norm\n",
        "from densratio import densratio\n",
        "\n",
        "x = np.random.normal(100, 10, 10010)\n",
        "y = np.append(np.random.normal(100, 10, 10000), np.random.normal(130, 1, 10))\n",
        "\n",
        "result = densratio(x, y)\n",
        "print(result)"
      ],
      "execution_count": 22,
      "outputs": [
        {
          "output_type": "stream",
          "text": [
            "RuLSIF starting...\n",
            "Searching for the optimal sigma and lambda...\n",
            "sigma = 0.00100, lambda = 0.00100, score = -0.00193\n",
            "sigma = 0.00100, lambda = 0.01000, score = -0.00022\n",
            "sigma = 0.00100, lambda = 0.10000, score = -0.00002\n",
            "sigma = 0.00100, lambda = 1.00000, score = -0.00000\n",
            "sigma = 0.00100, lambda = 10.00000, score = -0.00000\n",
            "sigma = 0.00100, lambda = 100.00000, score = -0.00000\n",
            "sigma = 0.00100, lambda = 1000.00000, score = -0.00000\n",
            "sigma = 0.00100, lambda = 10000.00000, score = -0.00000\n",
            "sigma = 0.00100, lambda = 100000.00000, score = -0.00000\n",
            "sigma = 0.00100, lambda = 1000000.00000, score = -0.00000\n",
            "sigma = 0.00100, lambda = 10000000.00000, score = -0.00000\n",
            "sigma = 0.00100, lambda = 100000000.00000, score = -0.00000\n",
            "sigma = 0.00100, lambda = 1000000000.00000, score = -0.00000\n",
            "sigma = 0.01000, lambda = 0.00100, score = -0.04000\n",
            "sigma = 0.01000, lambda = 0.01000, score = -0.00761\n",
            "sigma = 0.01000, lambda = 0.10000, score = -0.00083\n",
            "sigma = 0.01000, lambda = 1.00000, score = -0.00008\n",
            "sigma = 0.01000, lambda = 10.00000, score = -0.00001\n",
            "sigma = 0.01000, lambda = 100.00000, score = -0.00000\n",
            "sigma = 0.01000, lambda = 1000.00000, score = -0.00000\n",
            "sigma = 0.01000, lambda = 10000.00000, score = -0.00000\n",
            "sigma = 0.01000, lambda = 100000.00000, score = -0.00000\n",
            "sigma = 0.01000, lambda = 1000000.00000, score = -0.00000\n",
            "sigma = 0.01000, lambda = 10000000.00000, score = -0.00000\n",
            "sigma = 0.01000, lambda = 100000000.00000, score = -0.00000\n",
            "sigma = 0.01000, lambda = 1000000000.00000, score = -0.00000\n",
            "sigma = 0.10000, lambda = 0.00100, score = -0.30629\n",
            "sigma = 0.10000, lambda = 0.01000, score = -0.21824\n",
            "sigma = 0.10000, lambda = 0.10000, score = -0.05266\n",
            "sigma = 0.10000, lambda = 1.00000, score = -0.00614\n",
            "sigma = 0.10000, lambda = 10.00000, score = -0.00062\n",
            "sigma = 0.10000, lambda = 100.00000, score = -0.00006\n",
            "sigma = 0.10000, lambda = 1000.00000, score = -0.00001\n",
            "sigma = 0.10000, lambda = 10000.00000, score = -0.00000\n",
            "sigma = 0.10000, lambda = 100000.00000, score = -0.00000\n",
            "sigma = 0.10000, lambda = 1000000.00000, score = -0.00000\n",
            "sigma = 0.10000, lambda = 10000000.00000, score = -0.00000\n",
            "sigma = 0.10000, lambda = 100000000.00000, score = -0.00000\n",
            "sigma = 0.10000, lambda = 1000000000.00000, score = -0.00000\n",
            "sigma = 1.00000, lambda = 0.00100, score = -0.48445\n",
            "sigma = 1.00000, lambda = 0.01000, score = -0.47842\n",
            "sigma = 1.00000, lambda = 0.10000, score = -0.44443\n",
            "sigma = 1.00000, lambda = 1.00000, score = -0.26733\n",
            "sigma = 1.00000, lambda = 10.00000, score = -0.05337\n",
            "sigma = 1.00000, lambda = 100.00000, score = -0.00592\n",
            "sigma = 1.00000, lambda = 1000.00000, score = -0.00060\n",
            "sigma = 1.00000, lambda = 10000.00000, score = -0.00006\n",
            "sigma = 1.00000, lambda = 100000.00000, score = -0.00001\n",
            "sigma = 1.00000, lambda = 1000000.00000, score = -0.00000\n",
            "sigma = 1.00000, lambda = 10000000.00000, score = -0.00000\n",
            "sigma = 1.00000, lambda = 100000000.00000, score = -0.00000\n",
            "sigma = 1.00000, lambda = 1000000000.00000, score = -0.00000\n",
            "sigma = 10.00000, lambda = 0.00100, score = -0.43637\n",
            "sigma = 10.00000, lambda = 0.01000, score = -0.49442\n",
            "sigma = 10.00000, lambda = 0.10000, score = -0.49641\n",
            "sigma = 10.00000, lambda = 1.00000, score = -0.48840\n",
            "sigma = 10.00000, lambda = 10.00000, score = -0.45432\n",
            "sigma = 10.00000, lambda = 100.00000, score = -0.22464\n",
            "sigma = 10.00000, lambda = 1000.00000, score = -0.03404\n",
            "sigma = 10.00000, lambda = 10000.00000, score = -0.00358\n",
            "sigma = 10.00000, lambda = 100000.00000, score = -0.00036\n",
            "sigma = 10.00000, lambda = 1000000.00000, score = -0.00004\n",
            "sigma = 10.00000, lambda = 10000000.00000, score = -0.00000\n",
            "sigma = 10.00000, lambda = 100000000.00000, score = -0.00000\n",
            "sigma = 10.00000, lambda = 1000000000.00000, score = -0.00000\n",
            "sigma = 100.00000, lambda = 0.00100, score = -0.49527\n",
            "sigma = 100.00000, lambda = 0.01000, score = -0.50014\n",
            "sigma = 100.00000, lambda = 0.10000, score = -0.50016\n",
            "sigma = 100.00000, lambda = 1.00000, score = -0.50011\n",
            "sigma = 100.00000, lambda = 10.00000, score = -0.49587\n",
            "sigma = 100.00000, lambda = 100.00000, score = -0.37269\n",
            "sigma = 100.00000, lambda = 1000.00000, score = -0.08536\n",
            "sigma = 100.00000, lambda = 10000.00000, score = -0.00967\n",
            "sigma = 100.00000, lambda = 100000.00000, score = -0.00098\n",
            "sigma = 100.00000, lambda = 1000000.00000, score = -0.00010\n",
            "sigma = 100.00000, lambda = 10000000.00000, score = -0.00001\n",
            "sigma = 100.00000, lambda = 100000000.00000, score = -0.00000\n",
            "sigma = 100.00000, lambda = 1000000000.00000, score = -0.00000\n",
            "sigma = 1000.00000, lambda = 0.00100, score = -0.50000\n",
            "sigma = 1000.00000, lambda = 0.01000, score = -0.50000\n",
            "sigma = 1000.00000, lambda = 0.10000, score = -0.50000\n",
            "sigma = 1000.00000, lambda = 1.00000, score = -0.49995\n",
            "sigma = 1000.00000, lambda = 10.00000, score = -0.49586\n",
            "sigma = 1000.00000, lambda = 100.00000, score = -0.37496\n",
            "sigma = 1000.00000, lambda = 1000.00000, score = -0.08676\n",
            "sigma = 1000.00000, lambda = 10000.00000, score = -0.00985\n",
            "sigma = 1000.00000, lambda = 100000.00000, score = -0.00100\n",
            "sigma = 1000.00000, lambda = 1000000.00000, score = -0.00010\n",
            "sigma = 1000.00000, lambda = 10000000.00000, score = -0.00001\n",
            "sigma = 1000.00000, lambda = 100000000.00000, score = -0.00000\n",
            "sigma = 1000.00000, lambda = 1000000000.00000, score = -0.00000\n",
            "sigma = 10000.00000, lambda = 0.00100, score = -0.50000\n",
            "sigma = 10000.00000, lambda = 0.01000, score = -0.50000\n",
            "sigma = 10000.00000, lambda = 0.10000, score = -0.50000\n",
            "sigma = 10000.00000, lambda = 1.00000, score = -0.49995\n",
            "sigma = 10000.00000, lambda = 10.00000, score = -0.49586\n",
            "sigma = 10000.00000, lambda = 100.00000, score = -0.37499\n",
            "sigma = 10000.00000, lambda = 1000.00000, score = -0.08678\n",
            "sigma = 10000.00000, lambda = 10000.00000, score = -0.00985\n",
            "sigma = 10000.00000, lambda = 100000.00000, score = -0.00100\n",
            "sigma = 10000.00000, lambda = 1000000.00000, score = -0.00010\n",
            "sigma = 10000.00000, lambda = 10000000.00000, score = -0.00001\n",
            "sigma = 10000.00000, lambda = 100000000.00000, score = -0.00000\n",
            "sigma = 10000.00000, lambda = 1000000000.00000, score = -0.00000\n",
            "sigma = 100000.00000, lambda = 0.00100, score = -0.50000\n",
            "sigma = 100000.00000, lambda = 0.01000, score = -0.50000\n",
            "sigma = 100000.00000, lambda = 0.10000, score = -0.50000\n",
            "sigma = 100000.00000, lambda = 1.00000, score = -0.49995\n",
            "sigma = 100000.00000, lambda = 10.00000, score = -0.49586\n",
            "sigma = 100000.00000, lambda = 100.00000, score = -0.37499\n",
            "sigma = 100000.00000, lambda = 1000.00000, score = -0.08678\n",
            "sigma = 100000.00000, lambda = 10000.00000, score = -0.00985\n",
            "sigma = 100000.00000, lambda = 100000.00000, score = -0.00100\n",
            "sigma = 100000.00000, lambda = 1000000.00000, score = -0.00010\n",
            "sigma = 100000.00000, lambda = 10000000.00000, score = -0.00001\n",
            "sigma = 100000.00000, lambda = 100000000.00000, score = -0.00000\n",
            "sigma = 100000.00000, lambda = 1000000000.00000, score = -0.00000\n",
            "sigma = 1000000.00000, lambda = 0.00100, score = -0.50000\n",
            "sigma = 1000000.00000, lambda = 0.01000, score = -0.50000\n",
            "sigma = 1000000.00000, lambda = 0.10000, score = -0.50000\n",
            "sigma = 1000000.00000, lambda = 1.00000, score = -0.49995\n",
            "sigma = 1000000.00000, lambda = 10.00000, score = -0.49586\n",
            "sigma = 1000000.00000, lambda = 100.00000, score = -0.37499\n",
            "sigma = 1000000.00000, lambda = 1000.00000, score = -0.08678\n",
            "sigma = 1000000.00000, lambda = 10000.00000, score = -0.00985\n",
            "sigma = 1000000.00000, lambda = 100000.00000, score = -0.00100\n",
            "sigma = 1000000.00000, lambda = 1000000.00000, score = -0.00010\n",
            "sigma = 1000000.00000, lambda = 10000000.00000, score = -0.00001\n",
            "sigma = 1000000.00000, lambda = 100000000.00000, score = -0.00000\n",
            "sigma = 1000000.00000, lambda = 1000000000.00000, score = -0.00000\n",
            "sigma = 10000000.00000, lambda = 0.00100, score = -0.50000\n",
            "sigma = 10000000.00000, lambda = 0.01000, score = -0.50000\n",
            "sigma = 10000000.00000, lambda = 0.10000, score = -0.50000\n",
            "sigma = 10000000.00000, lambda = 1.00000, score = -0.49995\n",
            "sigma = 10000000.00000, lambda = 10.00000, score = -0.49586\n",
            "sigma = 10000000.00000, lambda = 100.00000, score = -0.37499\n",
            "sigma = 10000000.00000, lambda = 1000.00000, score = -0.08678\n",
            "sigma = 10000000.00000, lambda = 10000.00000, score = -0.00985\n",
            "sigma = 10000000.00000, lambda = 100000.00000, score = -0.00100\n",
            "sigma = 10000000.00000, lambda = 1000000.00000, score = -0.00010\n",
            "sigma = 10000000.00000, lambda = 10000000.00000, score = -0.00001\n",
            "sigma = 10000000.00000, lambda = 100000000.00000, score = -0.00000\n",
            "sigma = 10000000.00000, lambda = 1000000000.00000, score = -0.00000\n",
            "sigma = 100000000.00000, lambda = 0.00100, score = -0.50000\n",
            "sigma = 100000000.00000, lambda = 0.01000, score = -0.50000\n",
            "sigma = 100000000.00000, lambda = 0.10000, score = -0.50000\n",
            "sigma = 100000000.00000, lambda = 1.00000, score = -0.49995\n",
            "sigma = 100000000.00000, lambda = 10.00000, score = -0.49586\n",
            "sigma = 100000000.00000, lambda = 100.00000, score = -0.37499\n",
            "sigma = 100000000.00000, lambda = 1000.00000, score = -0.08678\n",
            "sigma = 100000000.00000, lambda = 10000.00000, score = -0.00985\n",
            "sigma = 100000000.00000, lambda = 100000.00000, score = -0.00100\n",
            "sigma = 100000000.00000, lambda = 1000000.00000, score = -0.00010\n",
            "sigma = 100000000.00000, lambda = 10000000.00000, score = -0.00001\n",
            "sigma = 100000000.00000, lambda = 100000000.00000, score = -0.00000\n",
            "sigma = 100000000.00000, lambda = 1000000000.00000, score = -0.00000\n",
            "sigma = 1000000000.00000, lambda = 0.00100, score = -0.50000\n",
            "sigma = 1000000000.00000, lambda = 0.01000, score = -0.50000\n",
            "sigma = 1000000000.00000, lambda = 0.10000, score = -0.50000\n",
            "sigma = 1000000000.00000, lambda = 1.00000, score = -0.49995\n",
            "sigma = 1000000000.00000, lambda = 10.00000, score = -0.49586\n",
            "sigma = 1000000000.00000, lambda = 100.00000, score = -0.37499\n",
            "sigma = 1000000000.00000, lambda = 1000.00000, score = -0.08678\n",
            "sigma = 1000000000.00000, lambda = 10000.00000, score = -0.00985\n",
            "sigma = 1000000000.00000, lambda = 100000.00000, score = -0.00100\n",
            "sigma = 1000000000.00000, lambda = 1000000.00000, score = -0.00010\n",
            "sigma = 1000000000.00000, lambda = 10000000.00000, score = -0.00001\n",
            "sigma = 1000000000.00000, lambda = 100000000.00000, score = -0.00000\n",
            "sigma = 1000000000.00000, lambda = 1000000000.00000, score = -0.00000\n",
            "Found optimal sigma = 100.000, lambda = 0.100.\n",
            "Optimizing theta...\n",
            "Approximate alpha-relative PE-divergence = 0.00\n",
            "Approximate alpha-relative KL-divergence = -0.00\n",
            "RuLSIF completed.\n",
            "Method: RuLSIF\n",
            "\n",
            "Alpha: 0\n",
            "\n",
            "Kernel Information:\n",
            "  Kernel type: Gaussian\n",
            "  Number of kernels: 100\n",
            "  Bandwidth(sigma): 100.0\n",
            "  Centers: matrix([[106.37550794],..\n",
            "\n",
            "Kernel Weights (theta):\n",
            "  array([0.00968051, 0.00940731, 0.00987696, 0.01055453, 0.01003057,..\n",
            "\n",
            "Regularization Parameter (lambda): 0.1\n",
            "\n",
            "Alpha-Relative PE-Divergence: 0.00017097395592768905\n",
            "\n",
            "Alpha-Relative KL-Divergence: -0.0007077212055221781\n",
            "\n",
            "Function to Estimate Density Ratio:\n",
            "  compute_density_ratio(x)\n",
            "  \n"
          ],
          "name": "stdout"
        }
      ]
    },
    {
      "cell_type": "code",
      "metadata": {
        "colab": {
          "base_uri": "https://localhost:8080/"
        },
        "id": "KnbZM8aC4jmk",
        "outputId": "64aeb2b3-ad71-4ca8-9dd4-07f870aab416"
      },
      "source": [
        "result.compute_density_ratio(y)\n",
        "abnormality = - np.log(result.compute_density_ratio(y))\n",
        "\n",
        "abnormality"
      ],
      "execution_count": 23,
      "outputs": [
        {
          "output_type": "execute_result",
          "data": {
            "text/plain": [
              "array([-0.00272423, -0.00411186, -0.00384976, ...,  0.03679777,\n",
              "        0.04087728,  0.03708668])"
            ]
          },
          "metadata": {
            "tags": []
          },
          "execution_count": 23
        }
      ]
    },
    {
      "cell_type": "code",
      "metadata": {
        "colab": {
          "base_uri": "https://localhost:8080/"
        },
        "id": "kezOCfAS4muK",
        "outputId": "6597a53e-275b-4c0a-8e7e-810b5248d585"
      },
      "source": [
        "np.mean(abnormality)"
      ],
      "execution_count": 24,
      "outputs": [
        {
          "output_type": "execute_result",
          "data": {
            "text/plain": [
              "0.0009027937214698314"
            ]
          },
          "metadata": {
            "tags": []
          },
          "execution_count": 24
        }
      ]
    },
    {
      "cell_type": "code",
      "metadata": {
        "id": "zzI3cETg4oH9"
      },
      "source": [
        "import numpy as np\n",
        "\n",
        "class DensityRatioEstimation():\n",
        "    def __init__(self, band_width=1.0, learning_rate=0.1, num_iterations=100):\n",
        "        self.band_width = band_width\n",
        "        self.theta = None\n",
        "        self.learning_rate = learning_rate\n",
        "        self.num_iterations = num_iterations\n",
        "        self.J = None\n",
        "        self.psi = None\n",
        "        self.psi_prime = None\n",
        "        self.eps = 10e-15\n",
        "\n",
        "    def fit(self, X_normal, X_error):\n",
        "        self.theta = np.ones(len(X_normal))\n",
        "        self.J = []\n",
        "\n",
        "        self.psi = np.asarray([self._gauss_kernel(x, X_normal)\n",
        "                               for x in X_normal])\n",
        "        self.psi_prime = np.asarray(\n",
        "            [self._gauss_kernel(x, X_normal) for x in X_error])\n",
        "        dJ_1 = self.psi_prime.sum(axis=0) / len(X_error)\n",
        "\n",
        "        for _ in range(self.num_iterations):\n",
        "            # calculate J\n",
        "            r = np.dot(self.psi, self.theta)\n",
        "            r = np.maximum(r, self.eps)\n",
        "            r_prime = np.dot(self.psi_prime, self.theta)\n",
        "            r_prime = np.maximum(r_prime, self.eps)\n",
        "            self.J.append(np.sum(r_prime)/len(X_error) -\n",
        "                          np.sum(np.log(r))/len(X_normal))\n",
        "\n",
        "            # calculate gradient\n",
        "            dJ = dJ_1 - (self.psi / r).sum(axis=0) / len(X_normal)\n",
        "            self.theta -= self.learning_rate * dJ\n",
        "\n",
        "    def _gauss_kernel(self, x, X):\n",
        "        return np.exp(-np.sum((x - X)**2, axis=1)/(2*self.band_width**2))\n",
        "\n",
        "    def get_score(self):\n",
        "        return self.J\n",
        "\n",
        "    def objective(self, X_normal, X_error):\n",
        "        # calculate J\n",
        "        psi = np.asarray([self._gauss_kernel(x, X_normal)\n",
        "                          for x in X_normal])\n",
        "        psi_prime = np.asarray([self._gauss_kernel(x, X_normal)\n",
        "                                for x in X_error])\n",
        "        r = np.dot(psi, self.theta)\n",
        "        r_prime = np.dot(psi_prime, self.theta)\n",
        "        J = np.sum(r_prime)/len(X_error) - np.sum(np.log(r))/len(X_normal)\n",
        "        return J\n",
        "\n",
        "    def predict(self, X_normal, X_error):\n",
        "        psi_prime = np.asarray([self._gauss_kernel(x, X_normal)\n",
        "                                for x in X_error])\n",
        "        r_prime = np.dot(psi_prime, self.theta)\n",
        "        r_prime = np.maximum(r_prime, self.eps)\n",
        "        return -np.log(r_prime)"
      ],
      "execution_count": 25,
      "outputs": []
    },
    {
      "cell_type": "code",
      "metadata": {
        "colab": {
          "base_uri": "https://localhost:8080/",
          "height": 532
        },
        "id": "3v4_hg2R8vHk",
        "outputId": "a8a3de04-47c3-46a2-844d-c1aaa1da31a7"
      },
      "source": [
        "if __name__ == '__main__':\n",
        "    import matplotlib.pyplot as plt\n",
        "    from sklearn.model_selection import KFold\n",
        "\n",
        "    normal_data = np.loadtxt(\"normal_data.csv\", delimiter=\",\")\n",
        "    error_data = np.loadtxt(\"error_data.csv\", delimiter=\",\")\n",
        "\n",
        "    kf_iter = KFold(n_splits=3).split(normal_data)\n",
        "\n",
        "    # A rule-of-thumb bandwidth estimator\n",
        "    # <https://en.wikipedia.org/wiki/Kernel_density_estimation>\n",
        "    SILVERMAN = 1.06*np.std(normal_data, axis=0)/pow(len(normal_data), 1/5)\n",
        "\n",
        "    ks = SILVERMAN + [0.1, 0.5, 1.0]\n",
        "    scores = []\n",
        "    ks_score = {}\n",
        "    for k in ks:\n",
        "        for train_index, valid_index in kf_iter:\n",
        "            train_normal_data = normal_data[train_index]\n",
        "            valid_normal_data = normal_data[valid_index]\n",
        "            train_error_data = error_data[train_index]\n",
        "            valid_error_data = error_data[valid_index]\n",
        "\n",
        "            model = DensityRatioEstimation(\n",
        "                band_width=k, learning_rate=0.1, num_iterations=1000)\n",
        "            model.fit(train_normal_data, train_error_data)\n",
        "            scores.append(model.get_score())\n",
        "\n",
        "        ks_score[k] = np.mean(scores)\n",
        "\n",
        "    min_k = min(ks_score, key=ks_score.get)\n",
        "    print('min k:', min_k)\n",
        "\n",
        "    model = DensityRatioEstimation(\n",
        "        band_width=min_k, learning_rate=0.1, num_iterations=1000)\n",
        "    model.fit(normal_data, error_data)\n",
        "\n",
        "    scores = model.get_score()\n",
        "    pred = model.predict(normal_data, error_data)\n",
        "\n",
        "    plt.plot(scores)\n",
        "    plt.show()\n",
        "\n",
        "    plt.plot(pred)\n",
        "    plt.show()"
      ],
      "execution_count": 27,
      "outputs": [
        {
          "output_type": "stream",
          "text": [
            "min k: 0.4674161497430511\n"
          ],
          "name": "stdout"
        },
        {
          "output_type": "display_data",
          "data": {
            "image/png": "[encoded data removed]",
            "text/plain": [
              "<Figure size 432x288 with 1 Axes>"
            ]
          },
          "metadata": {
            "tags": [],
            "needs_background": "light"
          }
        },
        {
          "output_type": "display_data",
          "data": {
            "image/png": "[encoded data removed]",
            "text/plain": [
              "<Figure size 432x288 with 1 Axes>"
            ]
          },
          "metadata": {
            "tags": [],
            "needs_background": "light"
          }
        }
      ]
    },
    {
      "cell_type": "code",
      "metadata": {
        "id": "1cw4JJZ09itt"
      },
      "source": [
        ""
      ],
      "execution_count": null,
      "outputs": []
    }
  ]
}